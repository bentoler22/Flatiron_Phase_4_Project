{
 "cells": [
  {
   "cell_type": "markdown",
   "metadata": {},
   "source": [
    "# Chest Xray Pneumonia Classification"
   ]
  },
  {
   "cell_type": "markdown",
   "metadata": {},
   "source": [
    "<img src=\"images/chest_xray.jpeg\" alt=\"Drawing\" style=\"width: 1000px;height:300px;float: left;\"/>"
   ]
  },
  {
   "cell_type": "markdown",
   "metadata": {},
   "source": [
    "## Summary\n"
   ]
  },
  {
   "cell_type": "markdown",
   "metadata": {},
   "source": [
    "## Business Understanding"
   ]
  },
  {
   "cell_type": "markdown",
   "metadata": {},
   "source": [
    "## Data Understanding"
   ]
  },
  {
   "cell_type": "code",
   "execution_count": 1,
   "metadata": {},
   "outputs": [],
   "source": [
    "import os, shutil\n",
    "import time\n",
    "import matplotlib.pyplot as plt\n",
    "import scipy\n",
    "import numpy as np\n",
    "from PIL import Image\n",
    "from scipy import ndimage\n",
    "from keras.preprocessing.image import ImageDataGenerator, array_to_img, img_to_array, load_img\n",
    "from keras import models\n",
    "from keras import layers\n",
    "from sklearn.model_selection import train_test_split\n",
    "from keras import regularizers"
   ]
  },
  {
   "cell_type": "code",
   "execution_count": 2,
   "metadata": {},
   "outputs": [],
   "source": [
    "train_folder = 'chest_xray/train/'\n",
    "test_folder = 'chest_xray/test/'\n",
    "val_folder = 'chest_xray/val/'"
   ]
  },
  {
   "cell_type": "code",
   "execution_count": 3,
   "metadata": {},
   "outputs": [
    {
     "name": "stdout",
     "output_type": "stream",
     "text": [
      "Found 624 images belonging to 2 classes.\n",
      "Found 16 images belonging to 2 classes.\n",
      "Found 5216 images belonging to 2 classes.\n"
     ]
    }
   ],
   "source": [
    "# get all the data in the directory split/test (180 images), and reshape them\n",
    "test_generator = ImageDataGenerator(rescale=1./255).flow_from_directory(\n",
    "        test_folder, batch_size=624) \n",
    "\n",
    "# get all the data in the directory split/validation (200 images), and reshape them\n",
    "val_generator = ImageDataGenerator(rescale=1./255).flow_from_directory(\n",
    "        val_folder, batch_size=16)\n",
    "\n",
    "# get all the data in the directory split/train (542 images), and reshape them\n",
    "train_generator = ImageDataGenerator(rescale=1./255).flow_from_directory(\n",
    "        train_folder, batch_size=5216)"
   ]
  },
  {
   "cell_type": "code",
   "execution_count": 4,
   "metadata": {},
   "outputs": [],
   "source": [
    "# create the data sets\n",
    "train_images, train_labels = next(train_generator)\n",
    "test_images, test_labels = next(test_generator)\n",
    "val_images, val_labels = next(val_generator)"
   ]
  },
  {
   "cell_type": "code",
   "execution_count": 5,
   "metadata": {
    "scrolled": false
   },
   "outputs": [
    {
     "name": "stdout",
     "output_type": "stream",
     "text": [
      "Number of training samples: 5216\n",
      "Number of testing samples: 624\n",
      "Number of validation samples: 16\n",
      "train_images shape: (5216, 256, 256, 3)\n",
      "train_labels shape: (5216, 2)\n",
      "test_images shape: (624, 256, 256, 3)\n",
      "test_labels shape: (624, 2)\n",
      "val_images shape: (16, 256, 256, 3)\n",
      "val_labels shape: (16, 2)\n"
     ]
    }
   ],
   "source": [
    "# Explore your dataset again\n",
    "m_train = train_images.shape[0]\n",
    "num_px = train_images.shape[1]\n",
    "m_test = test_images.shape[0]\n",
    "m_val = val_images.shape[0]\n",
    "\n",
    "print (\"Number of training samples: \" + str(m_train))\n",
    "print (\"Number of testing samples: \" + str(m_test))\n",
    "print (\"Number of validation samples: \" + str(m_val))\n",
    "print (\"train_images shape: \" + str(train_images.shape))\n",
    "print (\"train_labels shape: \" + str(train_labels.shape))\n",
    "print (\"test_images shape: \" + str(test_images.shape))\n",
    "print (\"test_labels shape: \" + str(test_labels.shape))\n",
    "print (\"val_images shape: \" + str(val_images.shape))\n",
    "print (\"val_labels shape: \" + str(val_labels.shape))"
   ]
  },
  {
   "cell_type": "markdown",
   "metadata": {},
   "source": [
    "## Data Preparation"
   ]
  },
  {
   "cell_type": "code",
   "execution_count": 6,
   "metadata": {},
   "outputs": [
    {
     "name": "stdout",
     "output_type": "stream",
     "text": [
      "(5216, 196608)\n",
      "(624, 196608)\n",
      "(16, 196608)\n"
     ]
    }
   ],
   "source": [
    "train_img = train_images.reshape(train_images.shape[0], -1)\n",
    "test_img = test_images.reshape(test_images.shape[0], -1)\n",
    "val_img = val_images.reshape(val_images.shape[0], -1)\n",
    "\n",
    "print(train_img.shape)\n",
    "print(test_img.shape)\n",
    "print(val_img.shape)"
   ]
  },
  {
   "cell_type": "code",
   "execution_count": 7,
   "metadata": {},
   "outputs": [],
   "source": [
    "train_y = np.reshape(train_labels[:,0], (5216,1))\n",
    "test_y = np.reshape(test_labels[:,0], (624,1))\n",
    "val_y = np.reshape(val_labels[:,0], (16,1))"
   ]
  },
  {
   "cell_type": "markdown",
   "metadata": {},
   "source": [
    "## Baseline Model"
   ]
  },
  {
   "cell_type": "code",
   "execution_count": 99,
   "metadata": {},
   "outputs": [],
   "source": [
    "baseline_model = models.Sequential()\n",
    "baseline_model.add(layers.Dense(5, activation='relu', input_shape=(196608,))) # 1 hidden layer\n",
    "baseline_model.add(layers.Dense(2, activation='relu'))\n",
    "baseline_model.add(layers.Dense(1, activation='sigmoid'))"
   ]
  },
  {
   "cell_type": "code",
   "execution_count": 100,
   "metadata": {},
   "outputs": [],
   "source": [
    "baseline_model.compile(optimizer='sgd',\n",
    "              loss='binary_crossentropy',\n",
    "              metrics=['accuracy'])"
   ]
  },
  {
   "cell_type": "code",
   "execution_count": 101,
   "metadata": {
    "scrolled": true
   },
   "outputs": [
    {
     "name": "stdout",
     "output_type": "stream",
     "text": [
      "Epoch 1/50\n",
      "118/118 [==============================] - 3s 24ms/step - loss: 0.6676 - accuracy: 0.7283 - val_loss: 0.6446 - val_accuracy: 0.7353\n",
      "Epoch 2/50\n",
      "118/118 [==============================] - 2s 21ms/step - loss: 0.6313 - accuracy: 0.7310 - val_loss: 0.6173 - val_accuracy: 0.7353\n",
      "Epoch 3/50\n",
      "118/118 [==============================] - 2s 19ms/step - loss: 0.6109 - accuracy: 0.7310 - val_loss: 0.6012 - val_accuracy: 0.7353\n",
      "Epoch 4/50\n",
      "118/118 [==============================] - 2s 19ms/step - loss: 0.5991 - accuracy: 0.7310 - val_loss: 0.5923 - val_accuracy: 0.7353\n",
      "Epoch 5/50\n",
      "118/118 [==============================] - 2s 20ms/step - loss: 0.5924 - accuracy: 0.7310 - val_loss: 0.5869 - val_accuracy: 0.7353\n",
      "Epoch 6/50\n",
      "118/118 [==============================] - 2s 17ms/step - loss: 0.5884 - accuracy: 0.7310 - val_loss: 0.5834 - val_accuracy: 0.7353\n",
      "Epoch 7/50\n",
      "118/118 [==============================] - 2s 18ms/step - loss: 0.5859 - accuracy: 0.7310 - val_loss: 0.5815 - val_accuracy: 0.7353\n",
      "Epoch 8/50\n",
      "118/118 [==============================] - 2s 19ms/step - loss: 0.5845 - accuracy: 0.7310 - val_loss: 0.5803 - val_accuracy: 0.7353\n",
      "Epoch 9/50\n",
      "118/118 [==============================] - 2s 18ms/step - loss: 0.5837 - accuracy: 0.7310 - val_loss: 0.5796 - val_accuracy: 0.7353\n",
      "Epoch 10/50\n",
      "118/118 [==============================] - 2s 19ms/step - loss: 0.5832 - accuracy: 0.7310 - val_loss: 0.5790 - val_accuracy: 0.7353\n",
      "Epoch 11/50\n",
      "118/118 [==============================] - 2s 20ms/step - loss: 0.5828 - accuracy: 0.7310 - val_loss: 0.5787 - val_accuracy: 0.7353\n",
      "Epoch 12/50\n",
      "118/118 [==============================] - 2s 18ms/step - loss: 0.5827 - accuracy: 0.7310 - val_loss: 0.5784 - val_accuracy: 0.7353\n",
      "Epoch 13/50\n",
      "118/118 [==============================] - 2s 18ms/step - loss: 0.5825 - accuracy: 0.7310 - val_loss: 0.5783 - val_accuracy: 0.7353\n",
      "Epoch 14/50\n",
      "118/118 [==============================] - 2s 17ms/step - loss: 0.5825 - accuracy: 0.7310 - val_loss: 0.5782 - val_accuracy: 0.7353\n",
      "Epoch 15/50\n",
      "118/118 [==============================] - 2s 17ms/step - loss: 0.5824 - accuracy: 0.7310 - val_loss: 0.5781 - val_accuracy: 0.7353\n",
      "Epoch 16/50\n",
      "118/118 [==============================] - 2s 20ms/step - loss: 0.5824 - accuracy: 0.7310 - val_loss: 0.5781 - val_accuracy: 0.7353\n",
      "Epoch 17/50\n",
      "118/118 [==============================] - 2s 17ms/step - loss: 0.5823 - accuracy: 0.7310 - val_loss: 0.5780 - val_accuracy: 0.7353\n",
      "Epoch 18/50\n",
      "118/118 [==============================] - 2s 17ms/step - loss: 0.5823 - accuracy: 0.7310 - val_loss: 0.5780 - val_accuracy: 0.7353\n",
      "Epoch 19/50\n",
      "118/118 [==============================] - 2s 20ms/step - loss: 0.5823 - accuracy: 0.7310 - val_loss: 0.5780 - val_accuracy: 0.7353\n",
      "Epoch 20/50\n",
      "118/118 [==============================] - 2s 19ms/step - loss: 0.5823 - accuracy: 0.7310 - val_loss: 0.5780 - val_accuracy: 0.7353\n",
      "Epoch 21/50\n",
      "118/118 [==============================] - 2s 18ms/step - loss: 0.5823 - accuracy: 0.7310 - val_loss: 0.5780 - val_accuracy: 0.7353\n",
      "Epoch 22/50\n",
      "118/118 [==============================] - 2s 19ms/step - loss: 0.5823 - accuracy: 0.7310 - val_loss: 0.5780 - val_accuracy: 0.7353\n",
      "Epoch 23/50\n",
      "118/118 [==============================] - 2s 19ms/step - loss: 0.5823 - accuracy: 0.7310 - val_loss: 0.5779 - val_accuracy: 0.7353\n",
      "Epoch 24/50\n",
      "118/118 [==============================] - 2s 21ms/step - loss: 0.5823 - accuracy: 0.7310 - val_loss: 0.5779 - val_accuracy: 0.7353\n",
      "Epoch 25/50\n",
      "118/118 [==============================] - 2s 20ms/step - loss: 0.5823 - accuracy: 0.7310 - val_loss: 0.5779 - val_accuracy: 0.7353\n",
      "Epoch 26/50\n",
      "118/118 [==============================] - 2s 18ms/step - loss: 0.5823 - accuracy: 0.7310 - val_loss: 0.5779 - val_accuracy: 0.7353\n",
      "Epoch 27/50\n",
      "118/118 [==============================] - 2s 19ms/step - loss: 0.5823 - accuracy: 0.7310 - val_loss: 0.5779 - val_accuracy: 0.7353\n",
      "Epoch 28/50\n",
      "118/118 [==============================] - 2s 19ms/step - loss: 0.5823 - accuracy: 0.7310 - val_loss: 0.5779 - val_accuracy: 0.7353\n",
      "Epoch 29/50\n",
      "118/118 [==============================] - 2s 18ms/step - loss: 0.5823 - accuracy: 0.7310 - val_loss: 0.5779 - val_accuracy: 0.7353\n",
      "Epoch 30/50\n",
      "118/118 [==============================] - 2s 18ms/step - loss: 0.5823 - accuracy: 0.7310 - val_loss: 0.5779 - val_accuracy: 0.7353\n",
      "Epoch 31/50\n",
      "118/118 [==============================] - 2s 18ms/step - loss: 0.5823 - accuracy: 0.7310 - val_loss: 0.5779 - val_accuracy: 0.7353\n",
      "Epoch 32/50\n",
      "118/118 [==============================] - 2s 18ms/step - loss: 0.5823 - accuracy: 0.7310 - val_loss: 0.5779 - val_accuracy: 0.7353\n",
      "Epoch 33/50\n",
      "118/118 [==============================] - 2s 19ms/step - loss: 0.5823 - accuracy: 0.7310 - val_loss: 0.5779 - val_accuracy: 0.7353\n",
      "Epoch 34/50\n",
      "118/118 [==============================] - 2s 18ms/step - loss: 0.5823 - accuracy: 0.7310 - val_loss: 0.5779 - val_accuracy: 0.7353\n",
      "Epoch 35/50\n",
      "118/118 [==============================] - 2s 18ms/step - loss: 0.5823 - accuracy: 0.7310 - val_loss: 0.5779 - val_accuracy: 0.7353\n",
      "Epoch 36/50\n",
      "118/118 [==============================] - 2s 18ms/step - loss: 0.5823 - accuracy: 0.7310 - val_loss: 0.5779 - val_accuracy: 0.7353\n",
      "Epoch 37/50\n",
      "118/118 [==============================] - 2s 18ms/step - loss: 0.5823 - accuracy: 0.7310 - val_loss: 0.5779 - val_accuracy: 0.7353\n",
      "Epoch 38/50\n",
      "118/118 [==============================] - 2s 19ms/step - loss: 0.5823 - accuracy: 0.7310 - val_loss: 0.5779 - val_accuracy: 0.7353\n",
      "Epoch 39/50\n",
      "118/118 [==============================] - 2s 19ms/step - loss: 0.5823 - accuracy: 0.7310 - val_loss: 0.5779 - val_accuracy: 0.7353\n",
      "Epoch 40/50\n",
      "118/118 [==============================] - 2s 19ms/step - loss: 0.5823 - accuracy: 0.7310 - val_loss: 0.5779 - val_accuracy: 0.7353\n",
      "Epoch 41/50\n",
      "118/118 [==============================] - 3s 22ms/step - loss: 0.5823 - accuracy: 0.7310 - val_loss: 0.5779 - val_accuracy: 0.7353\n",
      "Epoch 42/50\n",
      "118/118 [==============================] - 3s 23ms/step - loss: 0.5823 - accuracy: 0.7310 - val_loss: 0.5779 - val_accuracy: 0.7353\n",
      "Epoch 43/50\n",
      "118/118 [==============================] - 3s 22ms/step - loss: 0.5823 - accuracy: 0.7310 - val_loss: 0.5779 - val_accuracy: 0.7353\n",
      "Epoch 44/50\n",
      "118/118 [==============================] - 3s 23ms/step - loss: 0.5823 - accuracy: 0.7310 - val_loss: 0.5779 - val_accuracy: 0.7353\n",
      "Epoch 45/50\n",
      "118/118 [==============================] - 3s 23ms/step - loss: 0.5823 - accuracy: 0.7310 - val_loss: 0.5779 - val_accuracy: 0.7353\n",
      "Epoch 46/50\n",
      "118/118 [==============================] - 2s 19ms/step - loss: 0.5823 - accuracy: 0.7310 - val_loss: 0.5779 - val_accuracy: 0.7353\n",
      "Epoch 47/50\n",
      "118/118 [==============================] - 2s 20ms/step - loss: 0.5823 - accuracy: 0.7310 - val_loss: 0.5779 - val_accuracy: 0.7353\n",
      "Epoch 48/50\n",
      "118/118 [==============================] - 2s 18ms/step - loss: 0.5823 - accuracy: 0.7310 - val_loss: 0.5779 - val_accuracy: 0.7353\n",
      "Epoch 49/50\n",
      "118/118 [==============================] - 2s 18ms/step - loss: 0.5823 - accuracy: 0.7310 - val_loss: 0.5780 - val_accuracy: 0.7353\n",
      "Epoch 50/50\n",
      "118/118 [==============================] - 2s 17ms/step - loss: 0.5823 - accuracy: 0.7310 - val_loss: 0.5779 - val_accuracy: 0.7353\n"
     ]
    }
   ],
   "source": [
    "history = baseline_model.fit(X_train,\n",
    "                    y_train,\n",
    "                    epochs=50,\n",
    "                    batch_size=32,\n",
    "                    validation_data=(X_val, y_val))"
   ]
  },
  {
   "cell_type": "code",
   "execution_count": 102,
   "metadata": {},
   "outputs": [
    {
     "data": {
      "text/plain": [
       "dict_keys(['loss', 'accuracy', 'val_loss', 'val_accuracy'])"
      ]
     },
     "execution_count": 102,
     "metadata": {},
     "output_type": "execute_result"
    }
   ],
   "source": [
    "# Access the history attribute and store the dictionary\n",
    "baseline_model_val_dict = history.history\n",
    "# Print the keys\n",
    "baseline_model_val_dict.keys()"
   ]
  },
  {
   "cell_type": "code",
   "execution_count": 103,
   "metadata": {},
   "outputs": [
    {
     "data": {
      "image/png": "[encoded data removed]",
      "text/plain": [
       "<Figure size 864x576 with 1 Axes>"
      ]
     },
     "metadata": {
      "needs_background": "light"
     },
     "output_type": "display_data"
    }
   ],
   "source": [
    "fig, ax = plt.subplots(figsize=(12, 8))\n",
    "\n",
    "acc_values = baseline_model_val_dict['accuracy'] \n",
    "val_acc_values = baseline_model_val_dict['val_accuracy']\n",
    "\n",
    "epochs = range(1, len(acc_values) + 1)\n",
    "ax.plot(epochs, acc_values, label='Training acc')\n",
    "ax.plot(epochs, val_acc_values, label='Validation acc')\n",
    "ax.set_title('Training & validation accuracy')\n",
    "ax.set_xlabel('Epochs')\n",
    "ax.set_ylabel('Accuracy')\n",
    "ax.legend();"
   ]
  },
  {
   "cell_type": "markdown",
   "metadata": {},
   "source": [
    "## Fourth Model: L2 Regularization"
   ]
  },
  {
   "cell_type": "code",
   "execution_count": null,
   "metadata": {},
   "outputs": [],
   "source": [
    "model_4 = models.Sequential()\n",
    "\n",
    "# Add the input and first hidden layer\n",
    "model_4.add(layers.Dense(75, activation='relu', kernel_regularizer=regularizers.l2(0.005), input_shape=(196608,)))\n",
    "\n",
    "# Add another hidden layer\n",
    "model_4.add(layers.Dense(32, kernel_regularizer=regularizers.l2(0.005), activation='relu'))\n",
    "\n",
    "# Add an output layer\n",
    "model_4.add(layers.Dense(1, activation='sigmoid'))"
   ]
  },
  {
   "cell_type": "code",
   "execution_count": null,
   "metadata": {},
   "outputs": [],
   "source": [
    "model_4.compile(optimizer='sgd',\n",
    "              loss='binary_crossentropy',\n",
    "              metrics=['accuracy'])"
   ]
  },
  {
   "cell_type": "code",
   "execution_count": null,
   "metadata": {},
   "outputs": [],
   "source": [
    "history_4 = model_4.fit(X_train,\n",
    "                    y_train,\n",
    "                    epochs=50,\n",
    "                    batch_size=32,\n",
    "                    validation_data=(X_val, y_val))"
   ]
  },
  {
   "cell_type": "code",
   "execution_count": null,
   "metadata": {},
   "outputs": [],
   "source": [
    "model_4.evaluate(X_train, y_train)"
   ]
  },
  {
   "cell_type": "code",
   "execution_count": null,
   "metadata": {},
   "outputs": [],
   "source": [
    "model_4.evaluate(X_val, y_val)"
   ]
  },
  {
   "cell_type": "markdown",
   "metadata": {},
   "source": [
    "## Simple CNN"
   ]
  },
  {
   "cell_type": "code",
   "execution_count": null,
   "metadata": {},
   "outputs": [],
   "source": [
    "X_train, X_test, y_train, y_test = train_test_split(train_images, train_y, test_size=0.75)"
   ]
  },
  {
   "cell_type": "code",
   "execution_count": null,
   "metadata": {},
   "outputs": [],
   "source": [
    "X_train.shape"
   ]
  },
  {
   "cell_type": "code",
   "execution_count": 27,
   "metadata": {},
   "outputs": [],
   "source": [
    "model_4 = models.Sequential()\n",
    "model_4.add(layers.Conv2D(6, (3, 3), activation='relu',\n",
    "                        input_shape=(256 ,256,  3)))\n",
    "model_4.add(layers.MaxPooling2D((2, 2)))\n",
    "\n",
    "model_4.add(layers.Flatten())\n",
    "model_4.add(layers.Dense(10, activation='relu'))\n",
    "model_4.add(layers.Dense(1, activation='sigmoid'))"
   ]
  },
  {
   "cell_type": "code",
   "execution_count": 28,
   "metadata": {},
   "outputs": [],
   "source": [
    "model_4.compile(optimizer='sgd',\n",
    "              loss='binary_crossentropy',\n",
    "              metrics=['accuracy'])"
   ]
  },
  {
   "cell_type": "code",
   "execution_count": 29,
   "metadata": {
    "scrolled": true
   },
   "outputs": [
    {
     "name": "stdout",
     "output_type": "stream",
     "text": [
      "Epoch 1/30\n",
      "21/21 [==============================] - 6s 278ms/step - loss: 0.6482 - accuracy: 0.7239 - val_loss: 0.6932 - val_accuracy: 0.5000\n",
      "Epoch 2/30\n",
      "21/21 [==============================] - 6s 273ms/step - loss: 0.6813 - accuracy: 0.7462 - val_loss: 0.6939 - val_accuracy: 0.5000\n",
      "Epoch 3/30\n",
      "21/21 [==============================] - 6s 277ms/step - loss: 0.6704 - accuracy: 0.7462 - val_loss: 0.6950 - val_accuracy: 0.5000\n",
      "Epoch 4/30\n",
      "21/21 [==============================] - 6s 281ms/step - loss: 0.6605 - accuracy: 0.7462 - val_loss: 0.6966 - val_accuracy: 0.5000\n",
      "Epoch 5/30\n",
      "21/21 [==============================] - 6s 276ms/step - loss: 0.6517 - accuracy: 0.7462 - val_loss: 0.6985 - val_accuracy: 0.5000\n",
      "Epoch 6/30\n",
      "21/21 [==============================] - 6s 298ms/step - loss: 0.6439 - accuracy: 0.7462 - val_loss: 0.7008 - val_accuracy: 0.5000\n",
      "Epoch 7/30\n",
      "21/21 [==============================] - 6s 295ms/step - loss: 0.6365 - accuracy: 0.7462 - val_loss: 0.7033 - val_accuracy: 0.5000\n",
      "Epoch 8/30\n",
      "21/21 [==============================] - 6s 300ms/step - loss: 0.6301 - accuracy: 0.7462 - val_loss: 0.7060 - val_accuracy: 0.5000\n",
      "Epoch 9/30\n",
      "21/21 [==============================] - 6s 299ms/step - loss: 0.6243 - accuracy: 0.7462 - val_loss: 0.7088 - val_accuracy: 0.5000\n",
      "Epoch 10/30\n",
      "21/21 [==============================] - 6s 296ms/step - loss: 0.6191 - accuracy: 0.7462 - val_loss: 0.7118 - val_accuracy: 0.5000\n",
      "Epoch 11/30\n",
      "21/21 [==============================] - 6s 296ms/step - loss: 0.6143 - accuracy: 0.7462 - val_loss: 0.7149 - val_accuracy: 0.5000\n",
      "Epoch 12/30\n",
      "21/21 [==============================] - 6s 296ms/step - loss: 0.6100 - accuracy: 0.7462 - val_loss: 0.7180 - val_accuracy: 0.5000\n",
      "Epoch 13/30\n",
      "21/21 [==============================] - 6s 299ms/step - loss: 0.6061 - accuracy: 0.7462 - val_loss: 0.7212 - val_accuracy: 0.5000\n",
      "Epoch 14/30\n",
      "21/21 [==============================] - 6s 295ms/step - loss: 0.6025 - accuracy: 0.7462 - val_loss: 0.7244 - val_accuracy: 0.5000\n",
      "Epoch 15/30\n",
      "21/21 [==============================] - 6s 296ms/step - loss: 0.5993 - accuracy: 0.7462 - val_loss: 0.7274 - val_accuracy: 0.5000\n",
      "Epoch 16/30\n",
      "21/21 [==============================] - 6s 296ms/step - loss: 0.5965 - accuracy: 0.7462 - val_loss: 0.7306 - val_accuracy: 0.5000\n",
      "Epoch 17/30\n",
      "21/21 [==============================] - 6s 297ms/step - loss: 0.5938 - accuracy: 0.7462 - val_loss: 0.7338 - val_accuracy: 0.5000\n",
      "Epoch 18/30\n",
      "21/21 [==============================] - 6s 295ms/step - loss: 0.5914 - accuracy: 0.7462 - val_loss: 0.7369 - val_accuracy: 0.5000\n",
      "Epoch 19/30\n",
      "21/21 [==============================] - 6s 296ms/step - loss: 0.5892 - accuracy: 0.7462 - val_loss: 0.7401 - val_accuracy: 0.5000\n",
      "Epoch 20/30\n",
      "21/21 [==============================] - 6s 294ms/step - loss: 0.5872 - accuracy: 0.7462 - val_loss: 0.7432 - val_accuracy: 0.5000\n",
      "Epoch 21/30\n",
      "21/21 [==============================] - 6s 293ms/step - loss: 0.5853 - accuracy: 0.7462 - val_loss: 0.7463 - val_accuracy: 0.5000\n",
      "Epoch 22/30\n",
      "21/21 [==============================] - 6s 295ms/step - loss: 0.5836 - accuracy: 0.7462 - val_loss: 0.7492 - val_accuracy: 0.5000\n",
      "Epoch 23/30\n",
      "21/21 [==============================] - 6s 298ms/step - loss: 0.5822 - accuracy: 0.7462 - val_loss: 0.7520 - val_accuracy: 0.5000\n",
      "Epoch 24/30\n",
      "21/21 [==============================] - 6s 298ms/step - loss: 0.5808 - accuracy: 0.7462 - val_loss: 0.7546 - val_accuracy: 0.5000\n",
      "Epoch 25/30\n",
      "21/21 [==============================] - 6s 300ms/step - loss: 0.5797 - accuracy: 0.7462 - val_loss: 0.7570 - val_accuracy: 0.5000\n",
      "Epoch 26/30\n",
      "21/21 [==============================] - 6s 307ms/step - loss: 0.5787 - accuracy: 0.7462 - val_loss: 0.7596 - val_accuracy: 0.5000\n",
      "Epoch 27/30\n",
      "21/21 [==============================] - 6s 299ms/step - loss: 0.5777 - accuracy: 0.7462 - val_loss: 0.7622 - val_accuracy: 0.5000\n",
      "Epoch 28/30\n",
      "21/21 [==============================] - 6s 293ms/step - loss: 0.5767 - accuracy: 0.7462 - val_loss: 0.7646 - val_accuracy: 0.5000\n",
      "Epoch 29/30\n",
      "21/21 [==============================] - 6s 293ms/step - loss: 0.5759 - accuracy: 0.7462 - val_loss: 0.7670 - val_accuracy: 0.5000\n",
      "Epoch 30/30\n",
      "21/21 [==============================] - 6s 293ms/step - loss: 0.5751 - accuracy: 0.7462 - val_loss: 0.7695 - val_accuracy: 0.5000\n"
     ]
    }
   ],
   "source": [
    "history_4 = model_4.fit(X_train,\n",
    "                    y_train,\n",
    "                    epochs=30,\n",
    "                    batch_size=64,\n",
    "                    validation_data=(val_images, val_y))"
   ]
  },
  {
   "cell_type": "code",
   "execution_count": 30,
   "metadata": {},
   "outputs": [
    {
     "name": "stdout",
     "output_type": "stream",
     "text": [
      "41/41 [==============================] - 2s 50ms/step - loss: 0.5747 - accuracy: 0.7462\n"
     ]
    },
    {
     "data": {
      "text/plain": [
       "[0.5746670365333557, 0.7461656332015991]"
      ]
     },
     "execution_count": 30,
     "metadata": {},
     "output_type": "execute_result"
    }
   ],
   "source": [
    "model_4.evaluate(X_train, y_train)"
   ]
  },
  {
   "cell_type": "code",
   "execution_count": 31,
   "metadata": {},
   "outputs": [
    {
     "name": "stdout",
     "output_type": "stream",
     "text": [
      "1/1 [==============================] - 0s 0s/step - loss: 0.7695 - accuracy: 0.5000\n"
     ]
    },
    {
     "data": {
      "text/plain": [
       "[0.7694500684738159, 0.5]"
      ]
     },
     "execution_count": 31,
     "metadata": {},
     "output_type": "execute_result"
    }
   ],
   "source": [
    "model_4.evaluate(val_images, val_y)"
   ]
  },
  {
   "cell_type": "markdown",
   "metadata": {},
   "source": [
    "## Overfit CNN"
   ]
  },
  {
   "cell_type": "code",
   "execution_count": 13,
   "metadata": {},
   "outputs": [
    {
     "data": {
      "text/plain": [
       "(5216, 256, 256, 3)"
      ]
     },
     "execution_count": 13,
     "metadata": {},
     "output_type": "execute_result"
    }
   ],
   "source": [
    "train_images.shape"
   ]
  },
  {
   "cell_type": "code",
   "execution_count": 14,
   "metadata": {},
   "outputs": [],
   "source": [
    "X_train, X_test, y_train, y_test = train_test_split(train_images, train_y, test_size=0.75)"
   ]
  },
  {
   "cell_type": "code",
   "execution_count": 15,
   "metadata": {
    "scrolled": true
   },
   "outputs": [
    {
     "data": {
      "text/plain": [
       "(1304, 256, 256, 3)"
      ]
     },
     "execution_count": 15,
     "metadata": {},
     "output_type": "execute_result"
    }
   ],
   "source": [
    "X_train.shape"
   ]
  },
  {
   "cell_type": "code",
   "execution_count": 16,
   "metadata": {},
   "outputs": [],
   "source": [
    "model_5 = models.Sequential()\n",
    "model_5.add(layers.Conv2D(32, (3, 3), activation='relu',\n",
    "                        input_shape=(256 ,256,  3)))\n",
    "model_5.add(layers.MaxPooling2D((2, 2)))\n",
    "\n",
    "model_5.add(layers.Conv2D(32, (4, 4), activation='relu'))\n",
    "model_5.add(layers.MaxPooling2D((2, 2)))\n",
    "\n",
    "model_5.add(layers.Conv2D(64, (3, 3), activation='relu'))\n",
    "model_5.add(layers.MaxPooling2D((2, 2)))\n",
    "\n",
    "model_5.add(layers.Flatten())\n",
    "model_5.add(layers.Dense(64, activation='relu'))\n",
    "model_5.add(layers.Dense(1, activation='sigmoid'))"
   ]
  },
  {
   "cell_type": "code",
   "execution_count": 17,
   "metadata": {},
   "outputs": [],
   "source": [
    "model_5.compile(optimizer='sgd',\n",
    "              loss='binary_crossentropy',\n",
    "              metrics=['accuracy'])"
   ]
  },
  {
   "cell_type": "code",
   "execution_count": 18,
   "metadata": {
    "scrolled": true
   },
   "outputs": [
    {
     "name": "stdout",
     "output_type": "stream",
     "text": [
      "Epoch 1/30\n",
      "21/21 [==============================] - 45s 2s/step - loss: 0.5889 - accuracy: 0.7446 - val_loss: 0.8683 - val_accuracy: 0.5000\n",
      "Epoch 2/30\n",
      "21/21 [==============================] - 48s 2s/step - loss: 0.5577 - accuracy: 0.7462 - val_loss: 0.7504 - val_accuracy: 0.5000\n",
      "Epoch 3/30\n",
      "21/21 [==============================] - 48s 2s/step - loss: 0.5222 - accuracy: 0.7477 - val_loss: 1.1930 - val_accuracy: 0.5000\n",
      "Epoch 4/30\n",
      "21/21 [==============================] - 46s 2s/step - loss: 0.5170 - accuracy: 0.7738 - val_loss: 1.1984 - val_accuracy: 0.5000\n",
      "Epoch 5/30\n",
      "21/21 [==============================] - 46s 2s/step - loss: 0.4894 - accuracy: 0.7883 - val_loss: 0.5996 - val_accuracy: 0.7500\n",
      "Epoch 6/30\n",
      "21/21 [==============================] - 48s 2s/step - loss: 0.4572 - accuracy: 0.7968 - val_loss: 0.5909 - val_accuracy: 0.7500\n",
      "Epoch 7/30\n",
      "21/21 [==============================] - 48s 2s/step - loss: 0.4185 - accuracy: 0.8206 - val_loss: 0.8136 - val_accuracy: 0.5000\n",
      "Epoch 8/30\n",
      "21/21 [==============================] - 49s 2s/step - loss: 0.4335 - accuracy: 0.7807 - val_loss: 0.6174 - val_accuracy: 0.6250\n",
      "Epoch 9/30\n",
      "21/21 [==============================] - 46s 2s/step - loss: 0.4193 - accuracy: 0.8259 - val_loss: 1.1775 - val_accuracy: 0.6250\n",
      "Epoch 10/30\n",
      "21/21 [==============================] - 45s 2s/step - loss: 0.2866 - accuracy: 0.8919 - val_loss: 1.3176 - val_accuracy: 0.6250\n",
      "Epoch 11/30\n",
      "21/21 [==============================] - 47s 2s/step - loss: 0.3390 - accuracy: 0.8742 - val_loss: 0.4923 - val_accuracy: 0.7500\n",
      "Epoch 12/30\n",
      "21/21 [==============================] - 45s 2s/step - loss: 0.3538 - accuracy: 0.8459 - val_loss: 1.0710 - val_accuracy: 0.6250\n",
      "Epoch 13/30\n",
      "21/21 [==============================] - 46s 2s/step - loss: 0.2321 - accuracy: 0.9087 - val_loss: 0.4540 - val_accuracy: 0.7500\n",
      "Epoch 14/30\n",
      "21/21 [==============================] - 46s 2s/step - loss: 0.2873 - accuracy: 0.8796 - val_loss: 1.0282 - val_accuracy: 0.6250\n",
      "Epoch 15/30\n",
      "21/21 [==============================] - 49s 2s/step - loss: 0.2145 - accuracy: 0.9141 - val_loss: 0.7231 - val_accuracy: 0.6875\n",
      "Epoch 16/30\n",
      "21/21 [==============================] - 47s 2s/step - loss: 0.2890 - accuracy: 0.8865 - val_loss: 0.9822 - val_accuracy: 0.6250\n",
      "Epoch 17/30\n",
      "21/21 [==============================] - 51s 2s/step - loss: 0.1919 - accuracy: 0.9271 - val_loss: 0.5046 - val_accuracy: 0.8125\n",
      "Epoch 18/30\n",
      "21/21 [==============================] - 45s 2s/step - loss: 0.2704 - accuracy: 0.9057 - val_loss: 0.6581 - val_accuracy: 0.6250\n",
      "Epoch 19/30\n",
      "21/21 [==============================] - 46s 2s/step - loss: 0.1797 - accuracy: 0.9294 - val_loss: 0.6258 - val_accuracy: 0.7500\n",
      "Epoch 20/30\n",
      "21/21 [==============================] - 46s 2s/step - loss: 0.1633 - accuracy: 0.9325 - val_loss: 1.1150 - val_accuracy: 0.6250\n",
      "Epoch 21/30\n",
      "21/21 [==============================] - 47s 2s/step - loss: 0.1810 - accuracy: 0.9325 - val_loss: 0.5589 - val_accuracy: 0.7500\n",
      "Epoch 22/30\n",
      "21/21 [==============================] - 45s 2s/step - loss: 0.1981 - accuracy: 0.9210 - val_loss: 0.7955 - val_accuracy: 0.6250\n",
      "Epoch 23/30\n",
      "21/21 [==============================] - 43s 2s/step - loss: 0.1415 - accuracy: 0.9448 - val_loss: 0.4655 - val_accuracy: 0.8125\n",
      "Epoch 24/30\n",
      "21/21 [==============================] - 43s 2s/step - loss: 0.1963 - accuracy: 0.9271 - val_loss: 0.3368 - val_accuracy: 0.8750\n",
      "Epoch 25/30\n",
      "21/21 [==============================] - 46s 2s/step - loss: 0.1452 - accuracy: 0.9471 - val_loss: 0.5570 - val_accuracy: 0.8125\n",
      "Epoch 26/30\n",
      "21/21 [==============================] - 47s 2s/step - loss: 0.1481 - accuracy: 0.9417 - val_loss: 0.6831 - val_accuracy: 0.6875\n",
      "Epoch 27/30\n",
      "21/21 [==============================] - 45s 2s/step - loss: 0.1323 - accuracy: 0.9456 - val_loss: 0.5446 - val_accuracy: 0.8125\n",
      "Epoch 28/30\n",
      "21/21 [==============================] - 49s 2s/step - loss: 0.1535 - accuracy: 0.9417 - val_loss: 0.3635 - val_accuracy: 0.8750\n",
      "Epoch 29/30\n",
      "21/21 [==============================] - 53s 3s/step - loss: 0.1218 - accuracy: 0.9548 - val_loss: 0.7116 - val_accuracy: 0.6250\n",
      "Epoch 30/30\n",
      "21/21 [==============================] - 47s 2s/step - loss: 0.1601 - accuracy: 0.9402 - val_loss: 0.3574 - val_accuracy: 0.8125\n"
     ]
    }
   ],
   "source": [
    "history_5 = model_5.fit(X_train,\n",
    "                    y_train,\n",
    "                    epochs=30,\n",
    "                    batch_size=64,\n",
    "                    validation_data=(val_images, val_y))"
   ]
  },
  {
   "cell_type": "code",
   "execution_count": 19,
   "metadata": {},
   "outputs": [
    {
     "name": "stdout",
     "output_type": "stream",
     "text": [
      "41/41 [==============================] - 7s 165ms/step - loss: 0.1190 - accuracy: 0.9624\n"
     ]
    },
    {
     "data": {
      "text/plain": [
       "[0.119005486369133, 0.9624233245849609]"
      ]
     },
     "execution_count": 19,
     "metadata": {},
     "output_type": "execute_result"
    }
   ],
   "source": [
    "model_5.evaluate(X_train, y_train)"
   ]
  },
  {
   "cell_type": "code",
   "execution_count": 20,
   "metadata": {
    "scrolled": true
   },
   "outputs": [
    {
     "name": "stdout",
     "output_type": "stream",
     "text": [
      "1/1 [==============================] - 0s 16ms/step - loss: 0.3574 - accuracy: 0.8125\n"
     ]
    },
    {
     "data": {
      "text/plain": [
       "[0.3573865294456482, 0.8125]"
      ]
     },
     "execution_count": 20,
     "metadata": {},
     "output_type": "execute_result"
    }
   ],
   "source": [
    "model_5.evaluate(val_images, val_y)"
   ]
  },
  {
   "cell_type": "markdown",
   "metadata": {},
   "source": [
    "## Dropout CNN"
   ]
  },
  {
   "cell_type": "code",
   "execution_count": 32,
   "metadata": {},
   "outputs": [],
   "source": [
    "model_6 = models.Sequential()\n",
    "model_6.add(layers.Conv2D(32, (3, 3), activation='relu',\n",
    "                        input_shape=(256 ,256,  3)))\n",
    "model_6.add(layers.MaxPooling2D((2, 2)))\n",
    "model_6.add(layers.Dropout(0.3))\n",
    "\n",
    "model_6.add(layers.Conv2D(32, (4, 4), activation='relu'))\n",
    "model_6.add(layers.MaxPooling2D((2, 2)))\n",
    "model_6.add(layers.Dropout(0.3))\n",
    "\n",
    "model_6.add(layers.Conv2D(64, (3, 3), activation='relu'))\n",
    "model_6.add(layers.MaxPooling2D((2, 2)))\n",
    "model_6.add(layers.Dropout(0.3))\n",
    "\n",
    "model_6.add(layers.Flatten())\n",
    "model_6.add(layers.Dense(64, activation='relu'))\n",
    "model_6.add(layers.Dropout(0.3))\n",
    "model_6.add(layers.Dense(1, activation='sigmoid'))"
   ]
  },
  {
   "cell_type": "code",
   "execution_count": 33,
   "metadata": {},
   "outputs": [],
   "source": [
    "model_6.compile(optimizer='sgd',\n",
    "              loss='binary_crossentropy',\n",
    "              metrics=['accuracy'])"
   ]
  },
  {
   "cell_type": "code",
   "execution_count": 34,
   "metadata": {
    "scrolled": true
   },
   "outputs": [
    {
     "name": "stdout",
     "output_type": "stream",
     "text": [
      "Epoch 1/30\n",
      "21/21 [==============================] - 51s 2s/step - loss: 0.5836 - accuracy: 0.7416 - val_loss: 0.7293 - val_accuracy: 0.5000\n",
      "Epoch 2/30\n",
      "21/21 [==============================] - 49s 2s/step - loss: 0.5447 - accuracy: 0.7531 - val_loss: 0.7384 - val_accuracy: 0.5000\n",
      "Epoch 3/30\n",
      "21/21 [==============================] - 49s 2s/step - loss: 0.4937 - accuracy: 0.7669 - val_loss: 0.7016 - val_accuracy: 0.5000\n",
      "Epoch 4/30\n",
      "21/21 [==============================] - 50s 2s/step - loss: 0.4853 - accuracy: 0.7684 - val_loss: 0.6660 - val_accuracy: 0.6250\n",
      "Epoch 5/30\n",
      "21/21 [==============================] - 49s 2s/step - loss: 0.4555 - accuracy: 0.8029 - val_loss: 0.6629 - val_accuracy: 0.6250\n",
      "Epoch 6/30\n",
      "21/21 [==============================] - 49s 2s/step - loss: 0.4221 - accuracy: 0.8014 - val_loss: 0.7273 - val_accuracy: 0.5625\n",
      "Epoch 7/30\n",
      "21/21 [==============================] - 48s 2s/step - loss: 0.3579 - accuracy: 0.8428 - val_loss: 0.5903 - val_accuracy: 0.6250\n",
      "Epoch 8/30\n",
      "21/21 [==============================] - 48s 2s/step - loss: 0.3980 - accuracy: 0.8206 - val_loss: 0.5895 - val_accuracy: 0.8125\n",
      "Epoch 9/30\n",
      "21/21 [==============================] - 49s 2s/step - loss: 0.3529 - accuracy: 0.8551 - val_loss: 0.8235 - val_accuracy: 0.6250\n",
      "Epoch 10/30\n",
      "21/21 [==============================] - 49s 2s/step - loss: 0.3211 - accuracy: 0.8612 - val_loss: 0.7121 - val_accuracy: 0.6250\n",
      "Epoch 11/30\n",
      "21/21 [==============================] - 49s 2s/step - loss: 0.3035 - accuracy: 0.8834 - val_loss: 0.5970 - val_accuracy: 0.7500\n",
      "Epoch 12/30\n",
      "21/21 [==============================] - 48s 2s/step - loss: 0.2408 - accuracy: 0.8980 - val_loss: 0.5635 - val_accuracy: 0.7500\n",
      "Epoch 13/30\n",
      "21/21 [==============================] - 48s 2s/step - loss: 0.2681 - accuracy: 0.8942 - val_loss: 0.8215 - val_accuracy: 0.6250\n",
      "Epoch 14/30\n",
      "21/21 [==============================] - 48s 2s/step - loss: 0.2711 - accuracy: 0.8896 - val_loss: 0.5992 - val_accuracy: 0.6875\n",
      "Epoch 15/30\n",
      "21/21 [==============================] - 48s 2s/step - loss: 0.2549 - accuracy: 0.9011 - val_loss: 0.5810 - val_accuracy: 0.7500\n",
      "Epoch 16/30\n",
      "21/21 [==============================] - 49s 2s/step - loss: 0.2691 - accuracy: 0.8926 - val_loss: 0.5069 - val_accuracy: 0.8125\n",
      "Epoch 17/30\n",
      "21/21 [==============================] - 49s 2s/step - loss: 0.2061 - accuracy: 0.9149 - val_loss: 0.5937 - val_accuracy: 0.6875\n",
      "Epoch 18/30\n",
      "21/21 [==============================] - 49s 2s/step - loss: 0.2180 - accuracy: 0.9080 - val_loss: 0.7436 - val_accuracy: 0.6250\n",
      "Epoch 19/30\n",
      "21/21 [==============================] - 49s 2s/step - loss: 0.2267 - accuracy: 0.9034 - val_loss: 0.4707 - val_accuracy: 0.8125\n",
      "Epoch 20/30\n",
      "21/21 [==============================] - 49s 2s/step - loss: 0.2020 - accuracy: 0.9187 - val_loss: 0.6115 - val_accuracy: 0.6250\n",
      "Epoch 21/30\n",
      "21/21 [==============================] - 49s 2s/step - loss: 0.1648 - accuracy: 0.9348 - val_loss: 0.4435 - val_accuracy: 0.8125\n",
      "Epoch 22/30\n",
      "21/21 [==============================] - 49s 2s/step - loss: 0.2120 - accuracy: 0.9133 - val_loss: 0.4604 - val_accuracy: 0.8125\n",
      "Epoch 23/30\n",
      "21/21 [==============================] - 48s 2s/step - loss: 0.2007 - accuracy: 0.9264 - val_loss: 0.4648 - val_accuracy: 0.8125\n",
      "Epoch 24/30\n",
      "21/21 [==============================] - 49s 2s/step - loss: 0.1659 - accuracy: 0.9402 - val_loss: 0.4973 - val_accuracy: 0.8125\n",
      "Epoch 25/30\n",
      "21/21 [==============================] - 48s 2s/step - loss: 0.1682 - accuracy: 0.9363 - val_loss: 0.5342 - val_accuracy: 0.7500\n",
      "Epoch 26/30\n",
      "21/21 [==============================] - 48s 2s/step - loss: 0.1562 - accuracy: 0.9410 - val_loss: 0.8901 - val_accuracy: 0.5625\n",
      "Epoch 27/30\n",
      "21/21 [==============================] - 48s 2s/step - loss: 0.1716 - accuracy: 0.9348 - val_loss: 0.4995 - val_accuracy: 0.7500\n",
      "Epoch 28/30\n",
      "21/21 [==============================] - 48s 2s/step - loss: 0.1780 - accuracy: 0.9317 - val_loss: 0.4990 - val_accuracy: 0.7500\n",
      "Epoch 29/30\n",
      "21/21 [==============================] - 48s 2s/step - loss: 0.1547 - accuracy: 0.9440 - val_loss: 0.4240 - val_accuracy: 0.7500\n",
      "Epoch 30/30\n",
      "21/21 [==============================] - 48s 2s/step - loss: 0.1448 - accuracy: 0.9456 - val_loss: 0.4188 - val_accuracy: 0.8750\n"
     ]
    }
   ],
   "source": [
    "history_6 = model_6.fit(X_train,\n",
    "                    y_train,\n",
    "                    epochs=30,\n",
    "                    batch_size=64,\n",
    "                    validation_data=(val_images, val_y))"
   ]
  },
  {
   "cell_type": "code",
   "execution_count": 35,
   "metadata": {},
   "outputs": [
    {
     "name": "stdout",
     "output_type": "stream",
     "text": [
      "41/41 [==============================] - 7s 177ms/step - loss: 0.1716 - accuracy: 0.9578\n"
     ]
    },
    {
     "data": {
      "text/plain": [
       "[0.1715882420539856, 0.9578220844268799]"
      ]
     },
     "execution_count": 35,
     "metadata": {},
     "output_type": "execute_result"
    }
   ],
   "source": [
    "model_6.evaluate(X_train, y_train)"
   ]
  },
  {
   "cell_type": "code",
   "execution_count": 36,
   "metadata": {
    "scrolled": true
   },
   "outputs": [
    {
     "name": "stdout",
     "output_type": "stream",
     "text": [
      "1/1 [==============================] - 0s 0s/step - loss: 0.4188 - accuracy: 0.8750\n"
     ]
    },
    {
     "data": {
      "text/plain": [
       "[0.41880542039871216, 0.875]"
      ]
     },
     "execution_count": 36,
     "metadata": {},
     "output_type": "execute_result"
    }
   ],
   "source": [
    "model_6.evaluate(val_images, val_y)"
   ]
  },
  {
   "cell_type": "markdown",
   "metadata": {},
   "source": [
    "## Reduced Complexity with Dropout"
   ]
  },
  {
   "cell_type": "code",
   "execution_count": 37,
   "metadata": {},
   "outputs": [],
   "source": [
    "model_7 = models.Sequential()\n",
    "model_7.add(layers.Conv2D(32, (3, 3), activation='relu',\n",
    "                        input_shape=(256 ,256,  3)))\n",
    "model_7.add(layers.MaxPooling2D((2, 2)))\n",
    "model_7.add(layers.Dropout(0.3))\n",
    "\n",
    "model_7.add(layers.Conv2D(64, (3, 3), activation='relu'))\n",
    "model_7.add(layers.MaxPooling2D((2, 2)))\n",
    "model_7.add(layers.Dropout(0.3))\n",
    "\n",
    "model_7.add(layers.Flatten())\n",
    "model_7.add(layers.Dense(64, activation='relu'))\n",
    "model_7.add(layers.Dropout(0.3))\n",
    "model_7.add(layers.Dense(1, activation='sigmoid'))"
   ]
  },
  {
   "cell_type": "code",
   "execution_count": 38,
   "metadata": {},
   "outputs": [],
   "source": [
    "model_7.compile(optimizer='sgd',\n",
    "              loss='binary_crossentropy',\n",
    "              metrics=['accuracy'])"
   ]
  },
  {
   "cell_type": "code",
   "execution_count": 39,
   "metadata": {
    "scrolled": true
   },
   "outputs": [
    {
     "name": "stdout",
     "output_type": "stream",
     "text": [
      "Epoch 1/30\n",
      "21/21 [==============================] - 43s 2s/step - loss: 0.7207 - accuracy: 0.7109 - val_loss: 0.7189 - val_accuracy: 0.5000\n",
      "Epoch 2/30\n",
      "21/21 [==============================] - 43s 2s/step - loss: 0.5407 - accuracy: 0.7462 - val_loss: 0.7014 - val_accuracy: 0.5000\n",
      "Epoch 3/30\n",
      "21/21 [==============================] - 44s 2s/step - loss: 0.5268 - accuracy: 0.7515 - val_loss: 0.6968 - val_accuracy: 0.5000\n",
      "Epoch 4/30\n",
      "21/21 [==============================] - 44s 2s/step - loss: 0.4785 - accuracy: 0.7600 - val_loss: 0.6341 - val_accuracy: 0.6875\n",
      "Epoch 5/30\n",
      "21/21 [==============================] - 44s 2s/step - loss: 0.4717 - accuracy: 0.7784 - val_loss: 0.7859 - val_accuracy: 0.5000\n",
      "Epoch 6/30\n",
      "21/21 [==============================] - 45s 2s/step - loss: 0.4449 - accuracy: 0.8006 - val_loss: 0.8297 - val_accuracy: 0.5000\n",
      "Epoch 7/30\n",
      "21/21 [==============================] - 44s 2s/step - loss: 0.4308 - accuracy: 0.8137 - val_loss: 0.6556 - val_accuracy: 0.5625\n",
      "Epoch 8/30\n",
      "21/21 [==============================] - 43s 2s/step - loss: 0.3688 - accuracy: 0.8382 - val_loss: 0.6564 - val_accuracy: 0.6250\n",
      "Epoch 9/30\n",
      "21/21 [==============================] - 44s 2s/step - loss: 0.2999 - accuracy: 0.8773 - val_loss: 0.6355 - val_accuracy: 0.6250\n",
      "Epoch 10/30\n",
      "21/21 [==============================] - 43s 2s/step - loss: 0.4006 - accuracy: 0.8160 - val_loss: 0.6765 - val_accuracy: 0.6250\n",
      "Epoch 11/30\n",
      "21/21 [==============================] - 43s 2s/step - loss: 0.3785 - accuracy: 0.8382 - val_loss: 0.6048 - val_accuracy: 0.6875\n",
      "Epoch 12/30\n",
      "21/21 [==============================] - 43s 2s/step - loss: 0.3058 - accuracy: 0.8719 - val_loss: 0.5989 - val_accuracy: 0.6875\n",
      "Epoch 13/30\n",
      "21/21 [==============================] - 43s 2s/step - loss: 0.2768 - accuracy: 0.9041 - val_loss: 0.6150 - val_accuracy: 0.6875\n",
      "Epoch 14/30\n",
      "21/21 [==============================] - 43s 2s/step - loss: 0.2813 - accuracy: 0.8957 - val_loss: 0.7226 - val_accuracy: 0.6250\n",
      "Epoch 15/30\n",
      "21/21 [==============================] - 43s 2s/step - loss: 0.2392 - accuracy: 0.9087 - val_loss: 0.6180 - val_accuracy: 0.6250\n",
      "Epoch 16/30\n",
      "21/21 [==============================] - 43s 2s/step - loss: 0.2661 - accuracy: 0.8903 - val_loss: 0.5125 - val_accuracy: 0.7500\n",
      "Epoch 17/30\n",
      "21/21 [==============================] - 43s 2s/step - loss: 0.2302 - accuracy: 0.9149 - val_loss: 0.5187 - val_accuracy: 0.7500\n",
      "Epoch 18/30\n",
      "21/21 [==============================] - 43s 2s/step - loss: 0.2459 - accuracy: 0.9003 - val_loss: 0.4957 - val_accuracy: 0.8125\n",
      "Epoch 19/30\n",
      "21/21 [==============================] - 43s 2s/step - loss: 0.2319 - accuracy: 0.9156 - val_loss: 0.6294 - val_accuracy: 0.6250\n",
      "Epoch 20/30\n",
      "21/21 [==============================] - 43s 2s/step - loss: 0.1872 - accuracy: 0.9233 - val_loss: 0.4008 - val_accuracy: 0.9375\n",
      "Epoch 21/30\n",
      "21/21 [==============================] - 43s 2s/step - loss: 0.1992 - accuracy: 0.9256 - val_loss: 0.5820 - val_accuracy: 0.7500\n",
      "Epoch 22/30\n",
      "21/21 [==============================] - 43s 2s/step - loss: 0.1934 - accuracy: 0.9279 - val_loss: 0.4401 - val_accuracy: 0.8125\n",
      "Epoch 23/30\n",
      "21/21 [==============================] - 43s 2s/step - loss: 0.2133 - accuracy: 0.9210 - val_loss: 0.8546 - val_accuracy: 0.6250\n",
      "Epoch 24/30\n",
      "21/21 [==============================] - 43s 2s/step - loss: 0.1773 - accuracy: 0.9387 - val_loss: 0.5327 - val_accuracy: 0.7500\n",
      "Epoch 25/30\n",
      "21/21 [==============================] - 43s 2s/step - loss: 0.1650 - accuracy: 0.9425 - val_loss: 0.8664 - val_accuracy: 0.6250\n",
      "Epoch 26/30\n",
      "21/21 [==============================] - 43s 2s/step - loss: 0.1808 - accuracy: 0.9271 - val_loss: 0.6501 - val_accuracy: 0.7500\n",
      "Epoch 27/30\n",
      "21/21 [==============================] - 355s 17s/step - loss: 0.1787 - accuracy: 0.9317 - val_loss: 0.5854 - val_accuracy: 0.7500\n",
      "Epoch 28/30\n",
      "21/21 [==============================] - 44s 2s/step - loss: 0.1733 - accuracy: 0.9256 - val_loss: 0.3584 - val_accuracy: 0.8750\n",
      "Epoch 29/30\n",
      "21/21 [==============================] - 43s 2s/step - loss: 0.1764 - accuracy: 0.9310 - val_loss: 0.5011 - val_accuracy: 0.7500\n",
      "Epoch 30/30\n",
      "21/21 [==============================] - 43s 2s/step - loss: 0.1459 - accuracy: 0.9517 - val_loss: 0.4847 - val_accuracy: 0.8125\n"
     ]
    }
   ],
   "source": [
    "history_7 = model_7.fit(X_train,\n",
    "                    y_train,\n",
    "                    epochs=30,\n",
    "                    batch_size=64,\n",
    "                    validation_data=(val_images, val_y))"
   ]
  },
  {
   "cell_type": "code",
   "execution_count": null,
   "metadata": {},
   "outputs": [],
   "source": []
  },
  {
   "cell_type": "code",
   "execution_count": null,
   "metadata": {},
   "outputs": [],
   "source": []
  },
  {
   "cell_type": "code",
   "execution_count": null,
   "metadata": {},
   "outputs": [],
   "source": []
  },
  {
   "cell_type": "code",
   "execution_count": null,
   "metadata": {},
   "outputs": [],
   "source": []
  },
  {
   "cell_type": "markdown",
   "metadata": {},
   "source": [
    "## Final Model Evaluation"
   ]
  },
  {
   "cell_type": "code",
   "execution_count": null,
   "metadata": {},
   "outputs": [],
   "source": []
  },
  {
   "cell_type": "markdown",
   "metadata": {},
   "source": [
    "## Conclusion"
   ]
  },
  {
   "cell_type": "code",
   "execution_count": null,
   "metadata": {},
   "outputs": [],
   "source": []
  },
  {
   "cell_type": "markdown",
   "metadata": {},
   "source": [
    "## Next Steps"
   ]
  },
  {
   "cell_type": "code",
   "execution_count": null,
   "metadata": {},
   "outputs": [],
   "source": []
  }
 ],
 "metadata": {
  "kernelspec": {
   "display_name": "Python 3",
   "language": "python",
   "name": "python3"
  },
  "language_info": {
   "codemirror_mode": {
    "name": "ipython",
    "version": 3
   },
   "file_extension": ".py",
   "mimetype": "text/x-python",
   "name": "python",
   "nbconvert_exporter": "python",
   "pygments_lexer": "ipython3",
   "version": "3.8.5"
  },
  "toc": {
   "base_numbering": 1,
   "nav_menu": {},
   "number_sections": true,
   "sideBar": true,
   "skip_h1_title": false,
   "title_cell": "Table of Contents",
   "title_sidebar": "Contents",
   "toc_cell": false,
   "toc_position": {},
   "toc_section_display": true,
   "toc_window_display": false
  }
 },
 "nbformat": 4,
 "nbformat_minor": 4
}
