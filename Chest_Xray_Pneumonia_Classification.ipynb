{
 "cells": [
  {
   "cell_type": "markdown",
   "metadata": {},
   "source": [
    "# Chest Xray Pneumonia Classification"
   ]
  },
  {
   "cell_type": "markdown",
   "metadata": {},
   "source": [
    "<img src=\"images/chest_xray.jpeg\" alt=\"Drawing\" style=\"width: 1000px;height:300px;float: left;\"/>"
   ]
  },
  {
   "cell_type": "markdown",
   "metadata": {},
   "source": [
    "## Summary\n"
   ]
  },
  {
   "cell_type": "markdown",
   "metadata": {},
   "source": [
    "## Business Understanding"
   ]
  },
  {
   "cell_type": "markdown",
   "metadata": {},
   "source": [
    "## Data Understanding"
   ]
  },
  {
   "cell_type": "code",
   "execution_count": 1,
   "metadata": {},
   "outputs": [],
   "source": [
    "import os, shutil\n",
    "import time\n",
    "import matplotlib.pyplot as plt\n",
    "import scipy\n",
    "import numpy as np\n",
    "from PIL import Image\n",
    "from scipy import ndimage\n",
    "from keras.preprocessing.image import ImageDataGenerator, array_to_img, img_to_array, load_img\n",
    "from keras import models\n",
    "from keras import layers\n",
    "from sklearn.model_selection import train_test_split\n",
    "from keras import regularizers"
   ]
  },
  {
   "cell_type": "code",
   "execution_count": 2,
   "metadata": {},
   "outputs": [],
   "source": [
    "train_folder = 'chest_xray/train/'\n",
    "test_folder = 'chest_xray/test/'\n",
    "val_folder = 'chest_xray/val/'"
   ]
  },
  {
   "cell_type": "code",
   "execution_count": 3,
   "metadata": {},
   "outputs": [
    {
     "name": "stdout",
     "output_type": "stream",
     "text": [
      "Found 624 images belonging to 2 classes.\n",
      "Found 16 images belonging to 2 classes.\n",
      "Found 5216 images belonging to 2 classes.\n"
     ]
    }
   ],
   "source": [
    "# get all the data in the directory split/test (180 images), and reshape them\n",
    "test_generator = ImageDataGenerator(rescale=1./255).flow_from_directory(\n",
    "        test_folder, batch_size=624) \n",
    "\n",
    "# get all the data in the directory split/validation (200 images), and reshape them\n",
    "val_generator = ImageDataGenerator(rescale=1./255).flow_from_directory(\n",
    "        val_folder, batch_size=16)\n",
    "\n",
    "# get all the data in the directory split/train (542 images), and reshape them\n",
    "train_generator = ImageDataGenerator(rescale=1./255).flow_from_directory(\n",
    "        train_folder, batch_size=5216)"
   ]
  },
  {
   "cell_type": "code",
   "execution_count": 4,
   "metadata": {},
   "outputs": [],
   "source": [
    "# create the data sets\n",
    "train_images, train_labels = next(train_generator)\n",
    "test_images, test_labels = next(test_generator)\n",
    "val_images, val_labels = next(val_generator)"
   ]
  },
  {
   "cell_type": "code",
   "execution_count": 5,
   "metadata": {
    "scrolled": false
   },
   "outputs": [
    {
     "name": "stdout",
     "output_type": "stream",
     "text": [
      "Number of training samples: 5216\n",
      "Number of testing samples: 624\n",
      "Number of validation samples: 16\n",
      "train_images shape: (5216, 256, 256, 3)\n",
      "train_labels shape: (5216, 2)\n",
      "test_images shape: (624, 256, 256, 3)\n",
      "test_labels shape: (624, 2)\n",
      "val_images shape: (16, 256, 256, 3)\n",
      "val_labels shape: (16, 2)\n"
     ]
    }
   ],
   "source": [
    "# Explore your dataset again\n",
    "m_train = train_images.shape[0]\n",
    "num_px = train_images.shape[1]\n",
    "m_test = test_images.shape[0]\n",
    "m_val = val_images.shape[0]\n",
    "\n",
    "print (\"Number of training samples: \" + str(m_train))\n",
    "print (\"Number of testing samples: \" + str(m_test))\n",
    "print (\"Number of validation samples: \" + str(m_val))\n",
    "print (\"train_images shape: \" + str(train_images.shape))\n",
    "print (\"train_labels shape: \" + str(train_labels.shape))\n",
    "print (\"test_images shape: \" + str(test_images.shape))\n",
    "print (\"test_labels shape: \" + str(test_labels.shape))\n",
    "print (\"val_images shape: \" + str(val_images.shape))\n",
    "print (\"val_labels shape: \" + str(val_labels.shape))"
   ]
  },
  {
   "cell_type": "markdown",
   "metadata": {},
   "source": [
    "## Data Preparation"
   ]
  },
  {
   "cell_type": "code",
   "execution_count": 6,
   "metadata": {},
   "outputs": [
    {
     "name": "stdout",
     "output_type": "stream",
     "text": [
      "(5216, 196608)\n",
      "(624, 196608)\n",
      "(16, 196608)\n"
     ]
    }
   ],
   "source": [
    "train_img = train_images.reshape(train_images.shape[0], -1)\n",
    "test_img = test_images.reshape(test_images.shape[0], -1)\n",
    "val_img = val_images.reshape(val_images.shape[0], -1)\n",
    "\n",
    "print(train_img.shape)\n",
    "print(test_img.shape)\n",
    "print(val_img.shape)"
   ]
  },
  {
   "cell_type": "code",
   "execution_count": 7,
   "metadata": {},
   "outputs": [],
   "source": [
    "train_y = np.reshape(train_labels[:,0], (5216,1))\n",
    "test_y = np.reshape(test_labels[:,0], (624,1))\n",
    "val_y = np.reshape(val_labels[:,0], (16,1))"
   ]
  },
  {
   "cell_type": "markdown",
   "metadata": {},
   "source": [
    "## Baseline Model"
   ]
  },
  {
   "cell_type": "code",
   "execution_count": 99,
   "metadata": {},
   "outputs": [],
   "source": [
    "baseline_model = models.Sequential()\n",
    "baseline_model.add(layers.Dense(5, activation='relu', input_shape=(196608,))) # 1 hidden layer\n",
    "baseline_model.add(layers.Dense(2, activation='relu'))\n",
    "baseline_model.add(layers.Dense(1, activation='sigmoid'))"
   ]
  },
  {
   "cell_type": "code",
   "execution_count": 100,
   "metadata": {},
   "outputs": [],
   "source": [
    "baseline_model.compile(optimizer='sgd',\n",
    "              loss='binary_crossentropy',\n",
    "              metrics=['accuracy'])"
   ]
  },
  {
   "cell_type": "code",
   "execution_count": 101,
   "metadata": {
    "scrolled": true
   },
   "outputs": [
    {
     "name": "stdout",
     "output_type": "stream",
     "text": [
      "Epoch 1/50\n",
      "118/118 [==============================] - 3s 24ms/step - loss: 0.6676 - accuracy: 0.7283 - val_loss: 0.6446 - val_accuracy: 0.7353\n",
      "Epoch 2/50\n",
      "118/118 [==============================] - 2s 21ms/step - loss: 0.6313 - accuracy: 0.7310 - val_loss: 0.6173 - val_accuracy: 0.7353\n",
      "Epoch 3/50\n",
      "118/118 [==============================] - 2s 19ms/step - loss: 0.6109 - accuracy: 0.7310 - val_loss: 0.6012 - val_accuracy: 0.7353\n",
      "Epoch 4/50\n",
      "118/118 [==============================] - 2s 19ms/step - loss: 0.5991 - accuracy: 0.7310 - val_loss: 0.5923 - val_accuracy: 0.7353\n",
      "Epoch 5/50\n",
      "118/118 [==============================] - 2s 20ms/step - loss: 0.5924 - accuracy: 0.7310 - val_loss: 0.5869 - val_accuracy: 0.7353\n",
      "Epoch 6/50\n",
      "118/118 [==============================] - 2s 17ms/step - loss: 0.5884 - accuracy: 0.7310 - val_loss: 0.5834 - val_accuracy: 0.7353\n",
      "Epoch 7/50\n",
      "118/118 [==============================] - 2s 18ms/step - loss: 0.5859 - accuracy: 0.7310 - val_loss: 0.5815 - val_accuracy: 0.7353\n",
      "Epoch 8/50\n",
      "118/118 [==============================] - 2s 19ms/step - loss: 0.5845 - accuracy: 0.7310 - val_loss: 0.5803 - val_accuracy: 0.7353\n",
      "Epoch 9/50\n",
      "118/118 [==============================] - 2s 18ms/step - loss: 0.5837 - accuracy: 0.7310 - val_loss: 0.5796 - val_accuracy: 0.7353\n",
      "Epoch 10/50\n",
      "118/118 [==============================] - 2s 19ms/step - loss: 0.5832 - accuracy: 0.7310 - val_loss: 0.5790 - val_accuracy: 0.7353\n",
      "Epoch 11/50\n",
      "118/118 [==============================] - 2s 20ms/step - loss: 0.5828 - accuracy: 0.7310 - val_loss: 0.5787 - val_accuracy: 0.7353\n",
      "Epoch 12/50\n",
      "118/118 [==============================] - 2s 18ms/step - loss: 0.5827 - accuracy: 0.7310 - val_loss: 0.5784 - val_accuracy: 0.7353\n",
      "Epoch 13/50\n",
      "118/118 [==============================] - 2s 18ms/step - loss: 0.5825 - accuracy: 0.7310 - val_loss: 0.5783 - val_accuracy: 0.7353\n",
      "Epoch 14/50\n",
      "118/118 [==============================] - 2s 17ms/step - loss: 0.5825 - accuracy: 0.7310 - val_loss: 0.5782 - val_accuracy: 0.7353\n",
      "Epoch 15/50\n",
      "118/118 [==============================] - 2s 17ms/step - loss: 0.5824 - accuracy: 0.7310 - val_loss: 0.5781 - val_accuracy: 0.7353\n",
      "Epoch 16/50\n",
      "118/118 [==============================] - 2s 20ms/step - loss: 0.5824 - accuracy: 0.7310 - val_loss: 0.5781 - val_accuracy: 0.7353\n",
      "Epoch 17/50\n",
      "118/118 [==============================] - 2s 17ms/step - loss: 0.5823 - accuracy: 0.7310 - val_loss: 0.5780 - val_accuracy: 0.7353\n",
      "Epoch 18/50\n",
      "118/118 [==============================] - 2s 17ms/step - loss: 0.5823 - accuracy: 0.7310 - val_loss: 0.5780 - val_accuracy: 0.7353\n",
      "Epoch 19/50\n",
      "118/118 [==============================] - 2s 20ms/step - loss: 0.5823 - accuracy: 0.7310 - val_loss: 0.5780 - val_accuracy: 0.7353\n",
      "Epoch 20/50\n",
      "118/118 [==============================] - 2s 19ms/step - loss: 0.5823 - accuracy: 0.7310 - val_loss: 0.5780 - val_accuracy: 0.7353\n",
      "Epoch 21/50\n",
      "118/118 [==============================] - 2s 18ms/step - loss: 0.5823 - accuracy: 0.7310 - val_loss: 0.5780 - val_accuracy: 0.7353\n",
      "Epoch 22/50\n",
      "118/118 [==============================] - 2s 19ms/step - loss: 0.5823 - accuracy: 0.7310 - val_loss: 0.5780 - val_accuracy: 0.7353\n",
      "Epoch 23/50\n",
      "118/118 [==============================] - 2s 19ms/step - loss: 0.5823 - accuracy: 0.7310 - val_loss: 0.5779 - val_accuracy: 0.7353\n",
      "Epoch 24/50\n",
      "118/118 [==============================] - 2s 21ms/step - loss: 0.5823 - accuracy: 0.7310 - val_loss: 0.5779 - val_accuracy: 0.7353\n",
      "Epoch 25/50\n",
      "118/118 [==============================] - 2s 20ms/step - loss: 0.5823 - accuracy: 0.7310 - val_loss: 0.5779 - val_accuracy: 0.7353\n",
      "Epoch 26/50\n",
      "118/118 [==============================] - 2s 18ms/step - loss: 0.5823 - accuracy: 0.7310 - val_loss: 0.5779 - val_accuracy: 0.7353\n",
      "Epoch 27/50\n",
      "118/118 [==============================] - 2s 19ms/step - loss: 0.5823 - accuracy: 0.7310 - val_loss: 0.5779 - val_accuracy: 0.7353\n",
      "Epoch 28/50\n",
      "118/118 [==============================] - 2s 19ms/step - loss: 0.5823 - accuracy: 0.7310 - val_loss: 0.5779 - val_accuracy: 0.7353\n",
      "Epoch 29/50\n",
      "118/118 [==============================] - 2s 18ms/step - loss: 0.5823 - accuracy: 0.7310 - val_loss: 0.5779 - val_accuracy: 0.7353\n",
      "Epoch 30/50\n",
      "118/118 [==============================] - 2s 18ms/step - loss: 0.5823 - accuracy: 0.7310 - val_loss: 0.5779 - val_accuracy: 0.7353\n",
      "Epoch 31/50\n",
      "118/118 [==============================] - 2s 18ms/step - loss: 0.5823 - accuracy: 0.7310 - val_loss: 0.5779 - val_accuracy: 0.7353\n",
      "Epoch 32/50\n",
      "118/118 [==============================] - 2s 18ms/step - loss: 0.5823 - accuracy: 0.7310 - val_loss: 0.5779 - val_accuracy: 0.7353\n",
      "Epoch 33/50\n",
      "118/118 [==============================] - 2s 19ms/step - loss: 0.5823 - accuracy: 0.7310 - val_loss: 0.5779 - val_accuracy: 0.7353\n",
      "Epoch 34/50\n",
      "118/118 [==============================] - 2s 18ms/step - loss: 0.5823 - accuracy: 0.7310 - val_loss: 0.5779 - val_accuracy: 0.7353\n",
      "Epoch 35/50\n",
      "118/118 [==============================] - 2s 18ms/step - loss: 0.5823 - accuracy: 0.7310 - val_loss: 0.5779 - val_accuracy: 0.7353\n",
      "Epoch 36/50\n",
      "118/118 [==============================] - 2s 18ms/step - loss: 0.5823 - accuracy: 0.7310 - val_loss: 0.5779 - val_accuracy: 0.7353\n",
      "Epoch 37/50\n",
      "118/118 [==============================] - 2s 18ms/step - loss: 0.5823 - accuracy: 0.7310 - val_loss: 0.5779 - val_accuracy: 0.7353\n",
      "Epoch 38/50\n",
      "118/118 [==============================] - 2s 19ms/step - loss: 0.5823 - accuracy: 0.7310 - val_loss: 0.5779 - val_accuracy: 0.7353\n",
      "Epoch 39/50\n",
      "118/118 [==============================] - 2s 19ms/step - loss: 0.5823 - accuracy: 0.7310 - val_loss: 0.5779 - val_accuracy: 0.7353\n",
      "Epoch 40/50\n",
      "118/118 [==============================] - 2s 19ms/step - loss: 0.5823 - accuracy: 0.7310 - val_loss: 0.5779 - val_accuracy: 0.7353\n",
      "Epoch 41/50\n",
      "118/118 [==============================] - 3s 22ms/step - loss: 0.5823 - accuracy: 0.7310 - val_loss: 0.5779 - val_accuracy: 0.7353\n",
      "Epoch 42/50\n",
      "118/118 [==============================] - 3s 23ms/step - loss: 0.5823 - accuracy: 0.7310 - val_loss: 0.5779 - val_accuracy: 0.7353\n",
      "Epoch 43/50\n",
      "118/118 [==============================] - 3s 22ms/step - loss: 0.5823 - accuracy: 0.7310 - val_loss: 0.5779 - val_accuracy: 0.7353\n",
      "Epoch 44/50\n",
      "118/118 [==============================] - 3s 23ms/step - loss: 0.5823 - accuracy: 0.7310 - val_loss: 0.5779 - val_accuracy: 0.7353\n",
      "Epoch 45/50\n",
      "118/118 [==============================] - 3s 23ms/step - loss: 0.5823 - accuracy: 0.7310 - val_loss: 0.5779 - val_accuracy: 0.7353\n",
      "Epoch 46/50\n",
      "118/118 [==============================] - 2s 19ms/step - loss: 0.5823 - accuracy: 0.7310 - val_loss: 0.5779 - val_accuracy: 0.7353\n",
      "Epoch 47/50\n",
      "118/118 [==============================] - 2s 20ms/step - loss: 0.5823 - accuracy: 0.7310 - val_loss: 0.5779 - val_accuracy: 0.7353\n",
      "Epoch 48/50\n",
      "118/118 [==============================] - 2s 18ms/step - loss: 0.5823 - accuracy: 0.7310 - val_loss: 0.5779 - val_accuracy: 0.7353\n",
      "Epoch 49/50\n",
      "118/118 [==============================] - 2s 18ms/step - loss: 0.5823 - accuracy: 0.7310 - val_loss: 0.5780 - val_accuracy: 0.7353\n",
      "Epoch 50/50\n",
      "118/118 [==============================] - 2s 17ms/step - loss: 0.5823 - accuracy: 0.7310 - val_loss: 0.5779 - val_accuracy: 0.7353\n"
     ]
    }
   ],
   "source": [
    "history = baseline_model.fit(X_train,\n",
    "                    y_train,\n",
    "                    epochs=50,\n",
    "                    batch_size=32,\n",
    "                    validation_data=(X_val, y_val))"
   ]
  },
  {
   "cell_type": "code",
   "execution_count": 102,
   "metadata": {},
   "outputs": [
    {
     "data": {
      "text/plain": [
       "dict_keys(['loss', 'accuracy', 'val_loss', 'val_accuracy'])"
      ]
     },
     "execution_count": 102,
     "metadata": {},
     "output_type": "execute_result"
    }
   ],
   "source": [
    "# Access the history attribute and store the dictionary\n",
    "baseline_model_val_dict = history.history\n",
    "# Print the keys\n",
    "baseline_model_val_dict.keys()"
   ]
  },
  {
   "cell_type": "code",
   "execution_count": 103,
   "metadata": {},
   "outputs": [
    {
     "data": {
      "image/png": "[encoded data removed]",
      "text/plain": [
       "<Figure size 864x576 with 1 Axes>"
      ]
     },
     "metadata": {
      "needs_background": "light"
     },
     "output_type": "display_data"
    }
   ],
   "source": [
    "fig, ax = plt.subplots(figsize=(12, 8))\n",
    "\n",
    "acc_values = baseline_model_val_dict['accuracy'] \n",
    "val_acc_values = baseline_model_val_dict['val_accuracy']\n",
    "\n",
    "epochs = range(1, len(acc_values) + 1)\n",
    "ax.plot(epochs, acc_values, label='Training acc')\n",
    "ax.plot(epochs, val_acc_values, label='Validation acc')\n",
    "ax.set_title('Training & validation accuracy')\n",
    "ax.set_xlabel('Epochs')\n",
    "ax.set_ylabel('Accuracy')\n",
    "ax.legend();"
   ]
  },
  {
   "cell_type": "code",
   "execution_count": 104,
   "metadata": {
    "scrolled": false
   },
   "outputs": [
    {
     "name": "stdout",
     "output_type": "stream",
     "text": [
      "118/118 [==============================] - 1s 9ms/step - loss: 0.5823 - accuracy: 0.7310\n"
     ]
    }
   ],
   "source": [
    "results_train = baseline_model.evaluate(X_train, y_train)"
   ]
  },
  {
   "cell_type": "code",
   "execution_count": 106,
   "metadata": {
    "scrolled": false
   },
   "outputs": [
    {
     "name": "stdout",
     "output_type": "stream",
     "text": [
      "30/30 [==============================] - 0s 8ms/step - loss: 0.5779 - accuracy: 0.7353\n"
     ]
    }
   ],
   "source": [
    "results_val = baseline_model.evaluate(X_val, y_val)"
   ]
  },
  {
   "cell_type": "code",
   "execution_count": 107,
   "metadata": {},
   "outputs": [
    {
     "name": "stdout",
     "output_type": "stream",
     "text": [
      "37/37 [==============================] - 0s 12ms/step - loss: 0.5923 - accuracy: 0.7210\n"
     ]
    },
    {
     "data": {
      "text/plain": [
       "[0.5922738313674927, 0.7209897637367249]"
      ]
     },
     "execution_count": 107,
     "metadata": {},
     "output_type": "execute_result"
    }
   ],
   "source": [
    "baseline_model.evaluate(X_test, y_test)"
   ]
  },
  {
   "cell_type": "markdown",
   "metadata": {},
   "source": [
    "## 2nd Model"
   ]
  },
  {
   "cell_type": "code",
   "execution_count": 135,
   "metadata": {},
   "outputs": [],
   "source": [
    "model_2 = models.Sequential()\n",
    "model_2.add(layers.Dense(75, activation='relu', input_shape=(196608,))) # 4 hidden layer\n",
    "model_2.add(layers.Dense(32, activation='relu'))\n",
    "model_2.add(layers.Dense(1, activation='sigmoid'))"
   ]
  },
  {
   "cell_type": "code",
   "execution_count": 136,
   "metadata": {},
   "outputs": [],
   "source": [
    "model_2.compile(optimizer='sgd',\n",
    "              loss='binary_crossentropy',\n",
    "              metrics=['accuracy'])"
   ]
  },
  {
   "cell_type": "code",
   "execution_count": 137,
   "metadata": {
    "scrolled": true
   },
   "outputs": [
    {
     "name": "stdout",
     "output_type": "stream",
     "text": [
      "Epoch 1/100\n",
      "118/118 [==============================] - 6s 54ms/step - loss: 0.7881 - accuracy: 0.7171 - val_loss: 0.8978 - val_accuracy: 0.7353\n",
      "Epoch 2/100\n",
      "118/118 [==============================] - 6s 52ms/step - loss: 0.4437 - accuracy: 0.7641 - val_loss: 0.6343 - val_accuracy: 0.7556\n",
      "Epoch 3/100\n",
      "118/118 [==============================] - 6s 55ms/step - loss: 0.3609 - accuracy: 0.8599 - val_loss: 0.6608 - val_accuracy: 0.4205\n",
      "Epoch 4/100\n",
      "118/118 [==============================] - 6s 54ms/step - loss: 0.3386 - accuracy: 0.8764 - val_loss: 0.3899 - val_accuracy: 0.8442\n",
      "Epoch 5/100\n",
      "118/118 [==============================] - 6s 52ms/step - loss: 0.3308 - accuracy: 0.8746 - val_loss: 0.2999 - val_accuracy: 0.8858\n",
      "Epoch 6/100\n",
      "118/118 [==============================] - 6s 51ms/step - loss: 0.2999 - accuracy: 0.8973 - val_loss: 0.6106 - val_accuracy: 0.5507\n",
      "Epoch 7/100\n",
      "118/118 [==============================] - 6s 54ms/step - loss: 0.2942 - accuracy: 0.8970 - val_loss: 0.8310 - val_accuracy: 0.7673\n",
      "Epoch 8/100\n",
      "118/118 [==============================] - 7s 58ms/step - loss: 0.2777 - accuracy: 0.9085 - val_loss: 0.2634 - val_accuracy: 0.9104\n",
      "Epoch 9/100\n",
      "118/118 [==============================] - 7s 57ms/step - loss: 0.2652 - accuracy: 0.9117 - val_loss: 0.2584 - val_accuracy: 0.9114\n",
      "Epoch 10/100\n",
      "118/118 [==============================] - 7s 61ms/step - loss: 0.2667 - accuracy: 0.9125 - val_loss: 0.2712 - val_accuracy: 0.8975\n",
      "Epoch 11/100\n",
      "118/118 [==============================] - 6s 52ms/step - loss: 0.2540 - accuracy: 0.9151 - val_loss: 0.2156 - val_accuracy: 0.9402\n",
      "Epoch 12/100\n",
      "118/118 [==============================] - 6s 50ms/step - loss: 0.2498 - accuracy: 0.9165 - val_loss: 0.2261 - val_accuracy: 0.9200\n",
      "Epoch 13/100\n",
      "118/118 [==============================] - 7s 56ms/step - loss: 0.2429 - accuracy: 0.9231 - val_loss: 0.2161 - val_accuracy: 0.9285\n",
      "Epoch 14/100\n",
      "118/118 [==============================] - 6s 55ms/step - loss: 0.2341 - accuracy: 0.9218 - val_loss: 0.2353 - val_accuracy: 0.9178\n",
      "Epoch 15/100\n",
      "118/118 [==============================] - 6s 51ms/step - loss: 0.2337 - accuracy: 0.9215 - val_loss: 0.7357 - val_accuracy: 0.7876\n",
      "Epoch 16/100\n",
      "118/118 [==============================] - 6s 55ms/step - loss: 0.2391 - accuracy: 0.9199 - val_loss: 0.2642 - val_accuracy: 0.9007\n",
      "Epoch 17/100\n",
      "118/118 [==============================] - 7s 58ms/step - loss: 0.2387 - accuracy: 0.9189 - val_loss: 0.2227 - val_accuracy: 0.9178\n",
      "Epoch 18/100\n",
      "118/118 [==============================] - 7s 57ms/step - loss: 0.2148 - accuracy: 0.9277 - val_loss: 0.1979 - val_accuracy: 0.9392\n",
      "Epoch 19/100\n",
      "118/118 [==============================] - 6s 54ms/step - loss: 0.2118 - accuracy: 0.9306 - val_loss: 0.2656 - val_accuracy: 0.9039\n",
      "Epoch 20/100\n",
      "118/118 [==============================] - 7s 59ms/step - loss: 0.2182 - accuracy: 0.9218 - val_loss: 0.2063 - val_accuracy: 0.9328\n",
      "Epoch 21/100\n",
      "118/118 [==============================] - 6s 49ms/step - loss: 0.2137 - accuracy: 0.9245 - val_loss: 1.0300 - val_accuracy: 0.3244\n",
      "Epoch 22/100\n",
      "118/118 [==============================] - 6s 49ms/step - loss: 0.2205 - accuracy: 0.9199 - val_loss: 0.2178 - val_accuracy: 0.9210\n",
      "Epoch 23/100\n",
      "118/118 [==============================] - 6s 50ms/step - loss: 0.1958 - accuracy: 0.9351 - val_loss: 0.1857 - val_accuracy: 0.9413\n",
      "Epoch 24/100\n",
      "118/118 [==============================] - 6s 50ms/step - loss: 0.1979 - accuracy: 0.9351 - val_loss: 0.1894 - val_accuracy: 0.9392\n",
      "Epoch 25/100\n",
      "118/118 [==============================] - 6s 50ms/step - loss: 0.1990 - accuracy: 0.9309 - val_loss: 0.1804 - val_accuracy: 0.9456\n",
      "Epoch 26/100\n",
      "118/118 [==============================] - 6s 50ms/step - loss: 0.2017 - accuracy: 0.9298 - val_loss: 0.1804 - val_accuracy: 0.9413\n",
      "Epoch 27/100\n",
      "118/118 [==============================] - 7s 62ms/step - loss: 0.1952 - accuracy: 0.9335 - val_loss: 0.1787 - val_accuracy: 0.9424\n",
      "Epoch 28/100\n",
      "118/118 [==============================] - 7s 63ms/step - loss: 0.1944 - accuracy: 0.9317 - val_loss: 0.7024 - val_accuracy: 0.6147\n",
      "Epoch 29/100\n",
      "118/118 [==============================] - 7s 58ms/step - loss: 0.1968 - accuracy: 0.9290 - val_loss: 0.1868 - val_accuracy: 0.9402\n",
      "Epoch 30/100\n",
      "118/118 [==============================] - 7s 56ms/step - loss: 0.2021 - accuracy: 0.9277 - val_loss: 0.1740 - val_accuracy: 0.9424\n",
      "Epoch 31/100\n",
      "118/118 [==============================] - 7s 59ms/step - loss: 0.1916 - accuracy: 0.9309 - val_loss: 1.2971 - val_accuracy: 0.2668\n",
      "Epoch 32/100\n",
      "118/118 [==============================] - 7s 56ms/step - loss: 0.3997 - accuracy: 0.8169 - val_loss: 0.1901 - val_accuracy: 0.9328\n",
      "Epoch 33/100\n",
      "118/118 [==============================] - 6s 54ms/step - loss: 0.1858 - accuracy: 0.9354 - val_loss: 0.3385 - val_accuracy: 0.8858\n",
      "Epoch 34/100\n",
      "118/118 [==============================] - 6s 55ms/step - loss: 0.1823 - accuracy: 0.9413 - val_loss: 0.1839 - val_accuracy: 0.9392\n",
      "Epoch 35/100\n",
      "118/118 [==============================] - 6s 55ms/step - loss: 0.1804 - accuracy: 0.9389 - val_loss: 2.2397 - val_accuracy: 0.7353\n",
      "Epoch 36/100\n",
      "118/118 [==============================] - 6s 54ms/step - loss: 0.1971 - accuracy: 0.9351 - val_loss: 0.6232 - val_accuracy: 0.8100\n",
      "Epoch 37/100\n",
      "118/118 [==============================] - 7s 59ms/step - loss: 0.1807 - accuracy: 0.9370 - val_loss: 0.1701 - val_accuracy: 0.9445\n",
      "Epoch 38/100\n",
      "118/118 [==============================] - 6s 52ms/step - loss: 0.1803 - accuracy: 0.9370 - val_loss: 0.1689 - val_accuracy: 0.9445\n",
      "Epoch 39/100\n",
      "118/118 [==============================] - 6s 50ms/step - loss: 0.1737 - accuracy: 0.9397 - val_loss: 0.1846 - val_accuracy: 0.9306\n",
      "Epoch 40/100\n",
      "118/118 [==============================] - 6s 54ms/step - loss: 0.1717 - accuracy: 0.9384 - val_loss: 0.1678 - val_accuracy: 0.9456\n",
      "Epoch 41/100\n",
      "118/118 [==============================] - 7s 57ms/step - loss: 0.1796 - accuracy: 0.9392 - val_loss: 0.1794 - val_accuracy: 0.9402\n",
      "Epoch 42/100\n",
      "118/118 [==============================] - 6s 50ms/step - loss: 0.1725 - accuracy: 0.9410 - val_loss: 0.1647 - val_accuracy: 0.9456\n",
      "Epoch 43/100\n",
      "118/118 [==============================] - 7s 57ms/step - loss: 0.1736 - accuracy: 0.9413 - val_loss: 0.9457 - val_accuracy: 0.4995\n",
      "Epoch 44/100\n",
      "118/118 [==============================] - 8s 66ms/step - loss: 0.1862 - accuracy: 0.9333 - val_loss: 0.8573 - val_accuracy: 0.7812\n",
      "Epoch 45/100\n",
      "118/118 [==============================] - 7s 56ms/step - loss: 0.1754 - accuracy: 0.9405 - val_loss: 0.1636 - val_accuracy: 0.9434\n",
      "Epoch 46/100\n",
      "118/118 [==============================] - 6s 53ms/step - loss: 0.1779 - accuracy: 0.9376 - val_loss: 0.1637 - val_accuracy: 0.9434\n",
      "Epoch 47/100\n",
      "118/118 [==============================] - 6s 53ms/step - loss: 0.1756 - accuracy: 0.9351 - val_loss: 0.1718 - val_accuracy: 0.9360\n",
      "Epoch 48/100\n",
      "118/118 [==============================] - 7s 56ms/step - loss: 0.1609 - accuracy: 0.9440 - val_loss: 0.2783 - val_accuracy: 0.9039\n",
      "Epoch 49/100\n",
      "118/118 [==============================] - 7s 56ms/step - loss: 0.1669 - accuracy: 0.9418 - val_loss: 0.1641 - val_accuracy: 0.9434\n",
      "Epoch 50/100\n",
      "118/118 [==============================] - 7s 56ms/step - loss: 0.1620 - accuracy: 0.9458 - val_loss: 0.1831 - val_accuracy: 0.9370\n",
      "Epoch 51/100\n",
      "118/118 [==============================] - 6s 53ms/step - loss: 0.1717 - accuracy: 0.9376 - val_loss: 0.1930 - val_accuracy: 0.9232\n",
      "Epoch 52/100\n",
      "118/118 [==============================] - 6s 54ms/step - loss: 0.1646 - accuracy: 0.9392 - val_loss: 0.1622 - val_accuracy: 0.9445\n",
      "Epoch 53/100\n",
      "118/118 [==============================] - 6s 52ms/step - loss: 0.1767 - accuracy: 0.9362 - val_loss: 0.1608 - val_accuracy: 0.9445\n",
      "Epoch 54/100\n",
      "118/118 [==============================] - 6s 52ms/step - loss: 0.1496 - accuracy: 0.9482 - val_loss: 0.2423 - val_accuracy: 0.9221\n",
      "Epoch 55/100\n",
      "118/118 [==============================] - 6s 52ms/step - loss: 0.1615 - accuracy: 0.9437 - val_loss: 0.1601 - val_accuracy: 0.9413\n",
      "Epoch 56/100\n",
      "118/118 [==============================] - 6s 54ms/step - loss: 0.1544 - accuracy: 0.9458 - val_loss: 0.1603 - val_accuracy: 0.9434\n",
      "Epoch 57/100\n",
      "118/118 [==============================] - 6s 53ms/step - loss: 0.1639 - accuracy: 0.9408 - val_loss: 0.1660 - val_accuracy: 0.9413\n",
      "Epoch 58/100\n",
      "118/118 [==============================] - 6s 55ms/step - loss: 0.1591 - accuracy: 0.9429 - val_loss: 0.2029 - val_accuracy: 0.9274\n",
      "Epoch 59/100\n",
      "118/118 [==============================] - 6s 52ms/step - loss: 0.1586 - accuracy: 0.9429 - val_loss: 0.1583 - val_accuracy: 0.9456\n",
      "Epoch 60/100\n",
      "118/118 [==============================] - 6s 53ms/step - loss: 0.1549 - accuracy: 0.9458 - val_loss: 0.1587 - val_accuracy: 0.9466\n",
      "Epoch 61/100\n",
      "118/118 [==============================] - 6s 53ms/step - loss: 0.1559 - accuracy: 0.9458 - val_loss: 0.1693 - val_accuracy: 0.9413\n",
      "Epoch 62/100\n",
      "118/118 [==============================] - 6s 52ms/step - loss: 0.1532 - accuracy: 0.9477 - val_loss: 0.1636 - val_accuracy: 0.9434\n",
      "Epoch 63/100\n",
      "118/118 [==============================] - 6s 53ms/step - loss: 0.1556 - accuracy: 0.9453 - val_loss: 0.1736 - val_accuracy: 0.9402\n",
      "Epoch 64/100\n",
      "118/118 [==============================] - 6s 54ms/step - loss: 0.1437 - accuracy: 0.9504 - val_loss: 0.1571 - val_accuracy: 0.9477\n",
      "Epoch 65/100\n",
      "118/118 [==============================] - 6s 55ms/step - loss: 0.1640 - accuracy: 0.9367 - val_loss: 1.4710 - val_accuracy: 0.7428\n",
      "Epoch 66/100\n",
      "118/118 [==============================] - 7s 57ms/step - loss: 0.1712 - accuracy: 0.9440 - val_loss: 0.1575 - val_accuracy: 0.9434\n",
      "Epoch 67/100\n",
      "118/118 [==============================] - 6s 51ms/step - loss: 0.1457 - accuracy: 0.9461 - val_loss: 0.3675 - val_accuracy: 0.8378\n",
      "Epoch 68/100\n",
      "118/118 [==============================] - 6s 52ms/step - loss: 0.1529 - accuracy: 0.9458 - val_loss: 0.1773 - val_accuracy: 0.9392\n",
      "Epoch 69/100\n",
      "118/118 [==============================] - 7s 56ms/step - loss: 0.1488 - accuracy: 0.9466 - val_loss: 0.5067 - val_accuracy: 0.8570\n",
      "Epoch 70/100\n",
      "118/118 [==============================] - 7s 55ms/step - loss: 0.1570 - accuracy: 0.9434 - val_loss: 0.1883 - val_accuracy: 0.9349\n",
      "Epoch 71/100\n",
      "118/118 [==============================] - 7s 56ms/step - loss: 0.1467 - accuracy: 0.9482 - val_loss: 0.1576 - val_accuracy: 0.9434\n",
      "Epoch 72/100\n",
      "118/118 [==============================] - 7s 56ms/step - loss: 0.1519 - accuracy: 0.9426 - val_loss: 0.1557 - val_accuracy: 0.9466\n",
      "Epoch 73/100\n",
      "118/118 [==============================] - 6s 55ms/step - loss: 0.1478 - accuracy: 0.9488 - val_loss: 0.1660 - val_accuracy: 0.9360\n",
      "Epoch 74/100\n",
      "118/118 [==============================] - 7s 58ms/step - loss: 0.1444 - accuracy: 0.9490 - val_loss: 1.8986 - val_accuracy: 0.7385\n",
      "Epoch 75/100\n",
      "118/118 [==============================] - 6s 55ms/step - loss: 0.1690 - accuracy: 0.9413 - val_loss: 0.1538 - val_accuracy: 0.9445\n",
      "Epoch 76/100\n",
      "118/118 [==============================] - 7s 57ms/step - loss: 0.1461 - accuracy: 0.9469 - val_loss: 0.1659 - val_accuracy: 0.9381\n",
      "Epoch 77/100\n",
      "118/118 [==============================] - 7s 59ms/step - loss: 0.1543 - accuracy: 0.9432 - val_loss: 0.2020 - val_accuracy: 0.9146\n",
      "Epoch 78/100\n",
      "118/118 [==============================] - 7s 59ms/step - loss: 0.1442 - accuracy: 0.9472 - val_loss: 0.2683 - val_accuracy: 0.8922\n",
      "Epoch 79/100\n",
      "118/118 [==============================] - 7s 56ms/step - loss: 0.1492 - accuracy: 0.9485 - val_loss: 0.4991 - val_accuracy: 0.8549\n",
      "Epoch 80/100\n",
      "118/118 [==============================] - 8s 67ms/step - loss: 0.1424 - accuracy: 0.9490 - val_loss: 0.1562 - val_accuracy: 0.9456\n",
      "Epoch 81/100\n",
      "118/118 [==============================] - 7s 59ms/step - loss: 0.1502 - accuracy: 0.9442 - val_loss: 0.1563 - val_accuracy: 0.9445\n",
      "Epoch 82/100\n",
      "118/118 [==============================] - 6s 55ms/step - loss: 0.1438 - accuracy: 0.9496 - val_loss: 0.2125 - val_accuracy: 0.9306\n",
      "Epoch 83/100\n",
      "118/118 [==============================] - 6s 52ms/step - loss: 0.1384 - accuracy: 0.9509 - val_loss: 0.1552 - val_accuracy: 0.9456\n",
      "Epoch 84/100\n",
      "118/118 [==============================] - 6s 51ms/step - loss: 0.1289 - accuracy: 0.9573 - val_loss: 0.1645 - val_accuracy: 0.9392\n",
      "Epoch 85/100\n",
      "118/118 [==============================] - 6s 52ms/step - loss: 0.1430 - accuracy: 0.9504 - val_loss: 0.1603 - val_accuracy: 0.9424\n",
      "Epoch 86/100\n",
      "118/118 [==============================] - 6s 51ms/step - loss: 0.1369 - accuracy: 0.9504 - val_loss: 0.1637 - val_accuracy: 0.9434\n",
      "Epoch 87/100\n",
      "118/118 [==============================] - 6s 51ms/step - loss: 0.1438 - accuracy: 0.9490 - val_loss: 0.1906 - val_accuracy: 0.9392\n",
      "Epoch 88/100\n",
      "118/118 [==============================] - 6s 52ms/step - loss: 0.1386 - accuracy: 0.9501 - val_loss: 0.1544 - val_accuracy: 0.9456\n",
      "Epoch 89/100\n",
      "118/118 [==============================] - 6s 54ms/step - loss: 0.1391 - accuracy: 0.9509 - val_loss: 0.1580 - val_accuracy: 0.9434\n",
      "Epoch 90/100\n",
      "118/118 [==============================] - 6s 55ms/step - loss: 0.1380 - accuracy: 0.9541 - val_loss: 0.1646 - val_accuracy: 0.9381\n",
      "Epoch 91/100\n",
      "118/118 [==============================] - 6s 54ms/step - loss: 0.1328 - accuracy: 0.9544 - val_loss: 1.0403 - val_accuracy: 0.5304\n",
      "Epoch 92/100\n",
      "118/118 [==============================] - 6s 55ms/step - loss: 0.1434 - accuracy: 0.9464 - val_loss: 0.2339 - val_accuracy: 0.9007\n",
      "Epoch 93/100\n",
      "118/118 [==============================] - 7s 57ms/step - loss: 0.1293 - accuracy: 0.9544 - val_loss: 0.1583 - val_accuracy: 0.9413\n",
      "Epoch 94/100\n",
      "118/118 [==============================] - 7s 57ms/step - loss: 0.1410 - accuracy: 0.9520 - val_loss: 0.3640 - val_accuracy: 0.8837\n",
      "Epoch 95/100\n",
      "118/118 [==============================] - 7s 57ms/step - loss: 0.1286 - accuracy: 0.9541 - val_loss: 2.3753 - val_accuracy: 0.7375\n",
      "Epoch 96/100\n",
      "118/118 [==============================] - 6s 51ms/step - loss: 0.1488 - accuracy: 0.9501 - val_loss: 0.1578 - val_accuracy: 0.9445\n",
      "Epoch 97/100\n",
      "118/118 [==============================] - 6s 51ms/step - loss: 0.1380 - accuracy: 0.9530 - val_loss: 0.1635 - val_accuracy: 0.9392\n",
      "Epoch 98/100\n",
      "118/118 [==============================] - 6s 54ms/step - loss: 0.1348 - accuracy: 0.9520 - val_loss: 1.1976 - val_accuracy: 0.4867\n",
      "Epoch 99/100\n",
      "118/118 [==============================] - 6s 54ms/step - loss: 0.1347 - accuracy: 0.9525 - val_loss: 0.1619 - val_accuracy: 0.9434\n",
      "Epoch 100/100\n",
      "118/118 [==============================] - 6s 53ms/step - loss: 0.1277 - accuracy: 0.9560 - val_loss: 0.1829 - val_accuracy: 0.9242\n"
     ]
    }
   ],
   "source": [
    "history_2 = model_2.fit(X_train,\n",
    "                    y_train,\n",
    "                    epochs=100,\n",
    "                    batch_size=32,\n",
    "                    validation_data=(X_val, y_val))"
   ]
  },
  {
   "cell_type": "code",
   "execution_count": 138,
   "metadata": {},
   "outputs": [
    {
     "data": {
      "image/png": "[encoded data removed]",
      "text/plain": [
       "<Figure size 864x576 with 1 Axes>"
      ]
     },
     "metadata": {
      "needs_background": "light"
     },
     "output_type": "display_data"
    }
   ],
   "source": [
    "# Access the history attribute and store the dictionary\n",
    "model_2_val_dict = history_2.history\n",
    "# Print the keys\n",
    "model_2_val_dict.keys()\n",
    "\n",
    "fig, ax = plt.subplots(figsize=(12, 8))\n",
    "\n",
    "acc_values = model_2_val_dict['accuracy'] \n",
    "val_acc_values = model_2_val_dict['val_accuracy']\n",
    "\n",
    "epochs = range(1, len(acc_values) + 1)\n",
    "ax.plot(epochs, acc_values, label='Training acc')\n",
    "ax.plot(epochs, val_acc_values, label='Validation acc')\n",
    "ax.set_title('Training & validation accuracy')\n",
    "ax.set_xlabel('Epochs')\n",
    "ax.set_ylabel('Accuracy')\n",
    "ax.legend();"
   ]
  },
  {
   "cell_type": "code",
   "execution_count": 139,
   "metadata": {},
   "outputs": [
    {
     "name": "stdout",
     "output_type": "stream",
     "text": [
      "118/118 [==============================] - 2s 17ms/step - loss: 0.1381 - accuracy: 0.9474\n"
     ]
    },
    {
     "data": {
      "text/plain": [
       "[0.13805033266544342, 0.947424590587616]"
      ]
     },
     "execution_count": 139,
     "metadata": {},
     "output_type": "execute_result"
    }
   ],
   "source": [
    "model_2.evaluate(X_train, y_train)"
   ]
  },
  {
   "cell_type": "code",
   "execution_count": 140,
   "metadata": {
    "scrolled": false
   },
   "outputs": [
    {
     "name": "stdout",
     "output_type": "stream",
     "text": [
      "30/30 [==============================] - 0s 15ms/step - loss: 0.1829 - accuracy: 0.9242\n"
     ]
    },
    {
     "data": {
      "text/plain": [
       "[0.1829124093055725, 0.9242262244224548]"
      ]
     },
     "execution_count": 140,
     "metadata": {},
     "output_type": "execute_result"
    }
   ],
   "source": [
    "model_2.evaluate(X_val, y_val)"
   ]
  },
  {
   "cell_type": "code",
   "execution_count": 141,
   "metadata": {
    "scrolled": true
   },
   "outputs": [
    {
     "name": "stdout",
     "output_type": "stream",
     "text": [
      "37/37 [==============================] - 1s 16ms/step - loss: 0.1885 - accuracy: 0.9283\n"
     ]
    },
    {
     "data": {
      "text/plain": [
       "[0.18849815428256989, 0.9283276200294495]"
      ]
     },
     "execution_count": 141,
     "metadata": {},
     "output_type": "execute_result"
    }
   ],
   "source": [
    "model_2.evaluate(X_test, y_test)"
   ]
  },
  {
   "cell_type": "markdown",
   "metadata": {},
   "source": [
    "## Model 2.1"
   ]
  },
  {
   "cell_type": "code",
   "execution_count": 155,
   "metadata": {},
   "outputs": [],
   "source": [
    "model_2_1 = models.Sequential()\n",
    "model_2_1.add(layers.Dense(20, activation='relu', input_shape=(196608,))) # 4 hidden layer\n",
    "model_2_1.add(layers.Dense(10, activation='relu'))\n",
    "model_2_1.add(layers.Dense(1, activation='sigmoid'))"
   ]
  },
  {
   "cell_type": "code",
   "execution_count": 156,
   "metadata": {},
   "outputs": [],
   "source": [
    "model_2_1.compile(optimizer='sgd',\n",
    "              loss='binary_crossentropy',\n",
    "              metrics=['accuracy'])"
   ]
  },
  {
   "cell_type": "code",
   "execution_count": 157,
   "metadata": {
    "scrolled": true
   },
   "outputs": [
    {
     "name": "stdout",
     "output_type": "stream",
     "text": [
      "Epoch 1/50\n",
      "40/40 [==============================] - 2s 60ms/step - loss: 0.9143 - accuracy: 0.7011 - val_loss: 0.5298 - val_accuracy: 0.7353\n",
      "Epoch 2/50\n",
      "40/40 [==============================] - 2s 50ms/step - loss: 0.4737 - accuracy: 0.7707 - val_loss: 0.4279 - val_accuracy: 0.7492\n",
      "Epoch 3/50\n",
      "40/40 [==============================] - 2s 49ms/step - loss: 0.4388 - accuracy: 0.7980 - val_loss: 0.3444 - val_accuracy: 0.8645\n",
      "Epoch 4/50\n",
      "40/40 [==============================] - 2s 50ms/step - loss: 0.4021 - accuracy: 0.8321 - val_loss: 0.3392 - val_accuracy: 0.8356\n",
      "Epoch 5/50\n",
      "40/40 [==============================] - 2s 50ms/step - loss: 0.3696 - accuracy: 0.8546 - val_loss: 0.4360 - val_accuracy: 0.7962\n",
      "Epoch 6/50\n",
      "40/40 [==============================] - 2s 50ms/step - loss: 0.3629 - accuracy: 0.8588 - val_loss: 0.5937 - val_accuracy: 0.7663\n",
      "Epoch 7/50\n",
      "40/40 [==============================] - 2s 50ms/step - loss: 0.3585 - accuracy: 0.8626 - val_loss: 0.3627 - val_accuracy: 0.8218\n",
      "Epoch 8/50\n",
      "40/40 [==============================] - 2s 52ms/step - loss: 0.3354 - accuracy: 0.8756 - val_loss: 0.7259 - val_accuracy: 0.2732\n",
      "Epoch 9/50\n",
      "40/40 [==============================] - 2s 51ms/step - loss: 0.4274 - accuracy: 0.7427 - val_loss: 0.2864 - val_accuracy: 0.8965\n",
      "Epoch 10/50\n",
      "40/40 [==============================] - 2s 49ms/step - loss: 0.3285 - accuracy: 0.8818 - val_loss: 0.3070 - val_accuracy: 0.8741\n",
      "Epoch 11/50\n",
      "40/40 [==============================] - 2s 50ms/step - loss: 0.2962 - accuracy: 0.9079 - val_loss: 0.2684 - val_accuracy: 0.9157\n",
      "Epoch 12/50\n",
      "40/40 [==============================] - 2s 50ms/step - loss: 0.3232 - accuracy: 0.8783 - val_loss: 0.5745 - val_accuracy: 0.5998\n",
      "Epoch 13/50\n",
      "40/40 [==============================] - 2s 50ms/step - loss: 0.3118 - accuracy: 0.8850 - val_loss: 0.2599 - val_accuracy: 0.9200\n",
      "Epoch 14/50\n",
      "40/40 [==============================] - 2s 50ms/step - loss: 0.2964 - accuracy: 0.8970 - val_loss: 0.4882 - val_accuracy: 0.8132\n",
      "Epoch 15/50\n",
      "40/40 [==============================] - 2s 49ms/step - loss: 0.3034 - accuracy: 0.8994 - val_loss: 0.2671 - val_accuracy: 0.9210\n",
      "Epoch 16/50\n",
      "40/40 [==============================] - 2s 54ms/step - loss: 0.2900 - accuracy: 0.9031 - val_loss: 0.2467 - val_accuracy: 0.9264\n",
      "Epoch 17/50\n",
      "40/40 [==============================] - 2s 54ms/step - loss: 0.2728 - accuracy: 0.9159 - val_loss: 0.2461 - val_accuracy: 0.9306\n",
      "Epoch 18/50\n",
      "40/40 [==============================] - 2s 48ms/step - loss: 0.2915 - accuracy: 0.8965 - val_loss: 2.4188 - val_accuracy: 0.7353\n",
      "Epoch 19/50\n",
      "40/40 [==============================] - 2s 50ms/step - loss: 0.3104 - accuracy: 0.9159 - val_loss: 0.2389 - val_accuracy: 0.9317\n",
      "Epoch 20/50\n",
      "40/40 [==============================] - 2s 50ms/step - loss: 0.2590 - accuracy: 0.9215 - val_loss: 0.2940 - val_accuracy: 0.8890\n",
      "Epoch 21/50\n",
      "40/40 [==============================] - 2s 55ms/step - loss: 0.2722 - accuracy: 0.9082 - val_loss: 0.2534 - val_accuracy: 0.9104\n",
      "Epoch 22/50\n",
      "40/40 [==============================] - 2s 49ms/step - loss: 0.2636 - accuracy: 0.9151 - val_loss: 0.2274 - val_accuracy: 0.9434\n",
      "Epoch 23/50\n",
      "40/40 [==============================] - 2s 50ms/step - loss: 0.2671 - accuracy: 0.9127 - val_loss: 0.2801 - val_accuracy: 0.8943\n",
      "Epoch 24/50\n",
      "40/40 [==============================] - 2s 48ms/step - loss: 0.2537 - accuracy: 0.9194 - val_loss: 0.2478 - val_accuracy: 0.9146\n",
      "Epoch 25/50\n",
      "40/40 [==============================] - 2s 51ms/step - loss: 0.2426 - accuracy: 0.9234 - val_loss: 0.2933 - val_accuracy: 0.8933\n",
      "Epoch 26/50\n",
      "40/40 [==============================] - 2s 51ms/step - loss: 0.2504 - accuracy: 0.9202 - val_loss: 0.8719 - val_accuracy: 0.2657\n",
      "Epoch 27/50\n",
      "40/40 [==============================] - 2s 50ms/step - loss: 0.8441 - accuracy: 0.2698 - val_loss: 0.8116 - val_accuracy: 0.2785\n",
      "Epoch 28/50\n",
      "40/40 [==============================] - 2s 52ms/step - loss: 0.5500 - accuracy: 0.6640 - val_loss: 0.6149 - val_accuracy: 0.7364\n",
      "Epoch 29/50\n",
      "40/40 [==============================] - 2s 51ms/step - loss: 0.3863 - accuracy: 0.8340 - val_loss: 0.6415 - val_accuracy: 0.7471\n",
      "Epoch 30/50\n",
      "40/40 [==============================] - 2s 53ms/step - loss: 0.4021 - accuracy: 0.8175 - val_loss: 0.2971 - val_accuracy: 0.8719\n",
      "Epoch 31/50\n",
      "40/40 [==============================] - 2s 55ms/step - loss: 0.3221 - accuracy: 0.8754 - val_loss: 0.4813 - val_accuracy: 0.7417\n",
      "Epoch 32/50\n",
      "40/40 [==============================] - 2s 54ms/step - loss: 0.2976 - accuracy: 0.8884 - val_loss: 1.8841 - val_accuracy: 0.7353\n",
      "Epoch 33/50\n",
      "40/40 [==============================] - 2s 54ms/step - loss: 0.3497 - accuracy: 0.8804 - val_loss: 0.8182 - val_accuracy: 0.2924\n",
      "Epoch 34/50\n",
      "40/40 [==============================] - 2s 55ms/step - loss: 0.3502 - accuracy: 0.8409 - val_loss: 0.5834 - val_accuracy: 0.7898\n",
      "Epoch 35/50\n",
      "40/40 [==============================] - 2s 52ms/step - loss: 0.2873 - accuracy: 0.9002 - val_loss: 1.3882 - val_accuracy: 0.7375\n",
      "Epoch 36/50\n",
      "40/40 [==============================] - 2s 50ms/step - loss: 0.3009 - accuracy: 0.9010 - val_loss: 0.5930 - val_accuracy: 0.6073\n",
      "Epoch 37/50\n",
      "40/40 [==============================] - 2s 52ms/step - loss: 0.2798 - accuracy: 0.8994 - val_loss: 0.3784 - val_accuracy: 0.8474\n",
      "Epoch 38/50\n",
      "40/40 [==============================] - 2s 53ms/step - loss: 0.2793 - accuracy: 0.9013 - val_loss: 0.3201 - val_accuracy: 0.8666\n",
      "Epoch 39/50\n",
      "40/40 [==============================] - 3s 68ms/step - loss: 0.2816 - accuracy: 0.8983 - val_loss: 0.6304 - val_accuracy: 0.5731\n",
      "Epoch 40/50\n",
      "40/40 [==============================] - 3s 73ms/step - loss: 0.2683 - accuracy: 0.9087 - val_loss: 0.8424 - val_accuracy: 0.3212\n",
      "Epoch 41/50\n",
      "40/40 [==============================] - 3s 73ms/step - loss: 0.3130 - accuracy: 0.8639 - val_loss: 0.5227 - val_accuracy: 0.6830\n",
      "Epoch 42/50\n",
      "40/40 [==============================] - 3s 71ms/step - loss: 0.2650 - accuracy: 0.9079 - val_loss: 1.5283 - val_accuracy: 0.7375\n",
      "Epoch 43/50\n",
      "40/40 [==============================] - 3s 71ms/step - loss: 0.2704 - accuracy: 0.9213 - val_loss: 0.2192 - val_accuracy: 0.9370\n",
      "Epoch 44/50\n",
      "40/40 [==============================] - 3s 70ms/step - loss: 0.2447 - accuracy: 0.9231 - val_loss: 0.2213 - val_accuracy: 0.9221\n",
      "Epoch 45/50\n",
      "40/40 [==============================] - 3s 73ms/step - loss: 0.2449 - accuracy: 0.9159 - val_loss: 0.6037 - val_accuracy: 0.8015\n",
      "Epoch 46/50\n",
      "40/40 [==============================] - 3s 73ms/step - loss: 0.2616 - accuracy: 0.9082 - val_loss: 0.5530 - val_accuracy: 0.8100\n",
      "Epoch 47/50\n",
      "40/40 [==============================] - 3s 70ms/step - loss: 0.2390 - accuracy: 0.9226 - val_loss: 0.9330 - val_accuracy: 0.2721\n",
      "Epoch 48/50\n",
      "40/40 [==============================] - 3s 71ms/step - loss: 0.3779 - accuracy: 0.7921 - val_loss: 0.2314 - val_accuracy: 0.9200\n",
      "Epoch 49/50\n",
      "40/40 [==============================] - 3s 71ms/step - loss: 0.2283 - accuracy: 0.9298 - val_loss: 0.3341 - val_accuracy: 0.8783\n",
      "Epoch 50/50\n",
      "40/40 [==============================] - 3s 63ms/step - loss: 0.2392 - accuracy: 0.9194 - val_loss: 0.2061 - val_accuracy: 0.9424\n"
     ]
    }
   ],
   "source": [
    "history_2_1 = model_2_1.fit(X_train,\n",
    "                    y_train,\n",
    "                    epochs=50,\n",
    "                    batch_size=96,\n",
    "                    validation_data=(X_val, y_val))"
   ]
  },
  {
   "cell_type": "code",
   "execution_count": 158,
   "metadata": {},
   "outputs": [
    {
     "data": {
      "image/png": "[encoded data removed]",
      "text/plain": [
       "<Figure size 864x576 with 1 Axes>"
      ]
     },
     "metadata": {
      "needs_background": "light"
     },
     "output_type": "display_data"
    }
   ],
   "source": [
    "# Access the history attribute and store the dictionary\n",
    "model_21_val_dict = history_2_1.history\n",
    "# Print the keys\n",
    "model_21_val_dict.keys()\n",
    "\n",
    "fig, ax = plt.subplots(figsize=(12, 8))\n",
    "\n",
    "acc_values = model_21_val_dict['accuracy'] \n",
    "val_acc_values = model_21_val_dict['val_accuracy']\n",
    "\n",
    "epochs = range(1, len(acc_values) + 1)\n",
    "ax.plot(epochs, acc_values, label='Training acc')\n",
    "ax.plot(epochs, val_acc_values, label='Validation acc')\n",
    "ax.set_title('Training & validation accuracy')\n",
    "ax.set_xlabel('Epochs')\n",
    "ax.set_ylabel('Accuracy')\n",
    "ax.legend();"
   ]
  },
  {
   "cell_type": "code",
   "execution_count": 160,
   "metadata": {
    "scrolled": true
   },
   "outputs": [
    {
     "name": "stdout",
     "output_type": "stream",
     "text": [
      "Epoch 1/50\n",
      "40/40 [==============================] - 2s 57ms/step - loss: 0.5811 - accuracy: 0.7305 - val_loss: 0.6892 - val_accuracy: 0.7353\n",
      "Epoch 2/50\n",
      "40/40 [==============================] - 2s 50ms/step - loss: 0.5034 - accuracy: 0.7331 - val_loss: 0.6186 - val_accuracy: 0.7353\n",
      "Epoch 3/50\n",
      "40/40 [==============================] - 2s 52ms/step - loss: 0.4612 - accuracy: 0.8004 - val_loss: 0.6157 - val_accuracy: 0.6265\n",
      "Epoch 4/50\n",
      "40/40 [==============================] - 2s 49ms/step - loss: 0.4063 - accuracy: 0.8369 - val_loss: 0.3774 - val_accuracy: 0.8047\n",
      "Epoch 5/50\n",
      "40/40 [==============================] - 2s 49ms/step - loss: 0.3925 - accuracy: 0.8417 - val_loss: 0.4469 - val_accuracy: 0.7844\n",
      "Epoch 6/50\n",
      "40/40 [==============================] - 2s 48ms/step - loss: 0.3656 - accuracy: 0.8578 - val_loss: 0.3198 - val_accuracy: 0.8655\n",
      "Epoch 7/50\n",
      "40/40 [==============================] - 2s 46ms/step - loss: 0.3293 - accuracy: 0.8842 - val_loss: 0.5562 - val_accuracy: 0.6361\n",
      "Epoch 8/50\n",
      "40/40 [==============================] - 2s 45ms/step - loss: 0.3270 - accuracy: 0.8876 - val_loss: 0.2824 - val_accuracy: 0.9061\n",
      "Epoch 9/50\n",
      "40/40 [==============================] - 2s 46ms/step - loss: 0.3357 - accuracy: 0.8716 - val_loss: 0.2775 - val_accuracy: 0.9125\n",
      "Epoch 10/50\n",
      "40/40 [==============================] - 2s 47ms/step - loss: 0.3110 - accuracy: 0.8938 - val_loss: 0.3415 - val_accuracy: 0.8570\n",
      "Epoch 11/50\n",
      "40/40 [==============================] - 2s 46ms/step - loss: 0.3235 - accuracy: 0.8810 - val_loss: 0.5902 - val_accuracy: 0.5731\n",
      "Epoch 12/50\n",
      "40/40 [==============================] - 2s 46ms/step - loss: 0.3170 - accuracy: 0.8828 - val_loss: 0.3405 - val_accuracy: 0.8613\n",
      "Epoch 13/50\n",
      "40/40 [==============================] - 2s 46ms/step - loss: 0.2885 - accuracy: 0.9042 - val_loss: 0.2909 - val_accuracy: 0.8965\n",
      "Epoch 14/50\n",
      "40/40 [==============================] - 2s 47ms/step - loss: 0.2851 - accuracy: 0.9074 - val_loss: 0.2502 - val_accuracy: 0.9285\n",
      "Epoch 15/50\n",
      "40/40 [==============================] - 2s 45ms/step - loss: 0.2729 - accuracy: 0.9173 - val_loss: 0.2849 - val_accuracy: 0.9104\n",
      "Epoch 16/50\n",
      "40/40 [==============================] - 2s 47ms/step - loss: 0.2998 - accuracy: 0.8914 - val_loss: 0.3171 - val_accuracy: 0.8826\n",
      "Epoch 17/50\n",
      "40/40 [==============================] - 2s 46ms/step - loss: 0.2733 - accuracy: 0.9114 - val_loss: 0.2716 - val_accuracy: 0.9072\n",
      "Epoch 18/50\n",
      "40/40 [==============================] - 2s 49ms/step - loss: 0.2835 - accuracy: 0.9037 - val_loss: 0.2409 - val_accuracy: 0.9338\n",
      "Epoch 19/50\n",
      "40/40 [==============================] - 2s 52ms/step - loss: 0.2767 - accuracy: 0.9111 - val_loss: 0.2551 - val_accuracy: 0.9221\n",
      "Epoch 20/50\n",
      "40/40 [==============================] - 2s 50ms/step - loss: 0.2728 - accuracy: 0.9117 - val_loss: 0.8082 - val_accuracy: 0.2882\n",
      "Epoch 21/50\n",
      "40/40 [==============================] - 2s 45ms/step - loss: 0.3130 - accuracy: 0.8652 - val_loss: 0.2469 - val_accuracy: 0.9296\n",
      "Epoch 22/50\n",
      "40/40 [==============================] - 2s 45ms/step - loss: 0.2757 - accuracy: 0.9023 - val_loss: 0.2626 - val_accuracy: 0.9093\n",
      "Epoch 23/50\n",
      "40/40 [==============================] - 2s 46ms/step - loss: 0.2619 - accuracy: 0.9167 - val_loss: 0.6015 - val_accuracy: 0.8036\n",
      "Epoch 24/50\n",
      "40/40 [==============================] - 2s 45ms/step - loss: 0.2788 - accuracy: 0.9029 - val_loss: 0.2315 - val_accuracy: 0.9264\n",
      "Epoch 25/50\n",
      "40/40 [==============================] - 2s 45ms/step - loss: 0.2561 - accuracy: 0.9183 - val_loss: 0.2287 - val_accuracy: 0.9274\n",
      "Epoch 26/50\n",
      "40/40 [==============================] - 2s 45ms/step - loss: 0.2574 - accuracy: 0.9157 - val_loss: 0.2277 - val_accuracy: 0.9338\n",
      "Epoch 27/50\n",
      "40/40 [==============================] - 2s 46ms/step - loss: 0.2438 - accuracy: 0.9234 - val_loss: 0.8361 - val_accuracy: 0.3212\n",
      "Epoch 28/50\n",
      "40/40 [==============================] - 2s 45ms/step - loss: 0.2789 - accuracy: 0.8919 - val_loss: 0.7360 - val_accuracy: 0.4461\n",
      "Epoch 29/50\n",
      "40/40 [==============================] - 2s 45ms/step - loss: 0.2596 - accuracy: 0.9101 - val_loss: 0.2253 - val_accuracy: 0.9253\n",
      "Epoch 30/50\n",
      "40/40 [==============================] - 2s 45ms/step - loss: 0.2397 - accuracy: 0.9245 - val_loss: 0.2589 - val_accuracy: 0.9039\n",
      "Epoch 31/50\n",
      "40/40 [==============================] - 2s 45ms/step - loss: 0.2303 - accuracy: 0.9255 - val_loss: 0.2971 - val_accuracy: 0.8794\n",
      "Epoch 32/50\n",
      "40/40 [==============================] - 2s 46ms/step - loss: 0.2574 - accuracy: 0.9122 - val_loss: 0.3666 - val_accuracy: 0.8698\n",
      "Epoch 33/50\n",
      "40/40 [==============================] - 2s 45ms/step - loss: 0.2459 - accuracy: 0.9189 - val_loss: 0.2082 - val_accuracy: 0.9434\n",
      "Epoch 34/50\n",
      "40/40 [==============================] - 2s 45ms/step - loss: 0.2246 - accuracy: 0.9309 - val_loss: 0.2327 - val_accuracy: 0.9253\n",
      "Epoch 35/50\n",
      "40/40 [==============================] - 2s 45ms/step - loss: 0.2369 - accuracy: 0.9191 - val_loss: 0.7783 - val_accuracy: 0.7769\n",
      "Epoch 36/50\n",
      "40/40 [==============================] - 2s 45ms/step - loss: 0.2460 - accuracy: 0.9229 - val_loss: 0.2172 - val_accuracy: 0.9264\n",
      "Epoch 37/50\n",
      "40/40 [==============================] - 2s 45ms/step - loss: 0.2359 - accuracy: 0.9215 - val_loss: 0.3777 - val_accuracy: 0.8228\n",
      "Epoch 38/50\n",
      "40/40 [==============================] - 2s 45ms/step - loss: 0.2201 - accuracy: 0.9279 - val_loss: 1.1909 - val_accuracy: 0.7460\n",
      "Epoch 39/50\n",
      "40/40 [==============================] - 2s 45ms/step - loss: 0.2574 - accuracy: 0.9215 - val_loss: 0.2205 - val_accuracy: 0.9210\n",
      "Epoch 40/50\n",
      "40/40 [==============================] - 2s 45ms/step - loss: 0.2132 - accuracy: 0.9327 - val_loss: 0.2028 - val_accuracy: 0.9413\n",
      "Epoch 41/50\n",
      "40/40 [==============================] - 2s 45ms/step - loss: 0.2305 - accuracy: 0.9237 - val_loss: 0.9075 - val_accuracy: 0.3436\n",
      "Epoch 42/50\n",
      "40/40 [==============================] - 2s 45ms/step - loss: 0.2694 - accuracy: 0.8916 - val_loss: 0.2673 - val_accuracy: 0.9029\n",
      "Epoch 43/50\n",
      "40/40 [==============================] - 2s 45ms/step - loss: 0.2160 - accuracy: 0.9285 - val_loss: 0.2054 - val_accuracy: 0.9360\n",
      "Epoch 44/50\n",
      "40/40 [==============================] - 2s 45ms/step - loss: 0.2213 - accuracy: 0.9266 - val_loss: 0.1984 - val_accuracy: 0.9402\n",
      "Epoch 45/50\n",
      "40/40 [==============================] - 2s 45ms/step - loss: 0.2048 - accuracy: 0.9333 - val_loss: 0.2007 - val_accuracy: 0.9392\n",
      "Epoch 46/50\n",
      "40/40 [==============================] - 2s 49ms/step - loss: 0.2010 - accuracy: 0.9394 - val_loss: 0.1947 - val_accuracy: 0.9434\n",
      "Epoch 47/50\n",
      "40/40 [==============================] - 2s 51ms/step - loss: 0.2046 - accuracy: 0.9367 - val_loss: 0.2429 - val_accuracy: 0.9125\n",
      "Epoch 48/50\n",
      "40/40 [==============================] - 2s 52ms/step - loss: 0.2032 - accuracy: 0.9354 - val_loss: 0.4530 - val_accuracy: 0.7567\n",
      "Epoch 49/50\n",
      "40/40 [==============================] - 2s 49ms/step - loss: 0.2117 - accuracy: 0.9338 - val_loss: 0.5034 - val_accuracy: 0.8378\n",
      "Epoch 50/50\n",
      "40/40 [==============================] - 2s 41ms/step - loss: 0.2215 - accuracy: 0.9245 - val_loss: 0.1960 - val_accuracy: 0.9402\n"
     ]
    }
   ],
   "source": [
    "model_2_2 = models.Sequential()\n",
    "model_2_2.add(layers.Dense(8, activation='relu', input_shape=(196608,))) # 4 hidden layer\n",
    "model_2_2.add(layers.Dense(4, activation='relu'))\n",
    "model_2_2.add(layers.Dense(1, activation='sigmoid'))\n",
    "\n",
    "model_2_2.compile(optimizer='sgd',\n",
    "              loss='binary_crossentropy',\n",
    "              metrics=['accuracy'])\n",
    "\n",
    "history_2_2 = model_2_2.fit(X_train,\n",
    "                    y_train,\n",
    "                    epochs=50,\n",
    "                    batch_size=96,\n",
    "                    validation_data=(X_val, y_val))"
   ]
  },
  {
   "cell_type": "code",
   "execution_count": 161,
   "metadata": {},
   "outputs": [
    {
     "data": {
      "image/png": "[encoded data removed]",
      "text/plain": [
       "<Figure size 864x576 with 1 Axes>"
      ]
     },
     "metadata": {
      "needs_background": "light"
     },
     "output_type": "display_data"
    }
   ],
   "source": [
    "# Access the history attribute and store the dictionary\n",
    "model_22_val_dict = history_2_2.history\n",
    "# Print the keys\n",
    "model_22_val_dict.keys()\n",
    "\n",
    "fig, ax = plt.subplots(figsize=(12, 8))\n",
    "\n",
    "acc_values = model_22_val_dict['accuracy'] \n",
    "val_acc_values = model_22_val_dict['val_accuracy']\n",
    "\n",
    "epochs = range(1, len(acc_values) + 1)\n",
    "ax.plot(epochs, acc_values, label='Training acc')\n",
    "ax.plot(epochs, val_acc_values, label='Validation acc')\n",
    "ax.set_title('Training & validation accuracy')\n",
    "ax.set_xlabel('Epochs')\n",
    "ax.set_ylabel('Accuracy')\n",
    "ax.legend();"
   ]
  },
  {
   "cell_type": "markdown",
   "metadata": {},
   "source": [
    "## Third Model: Dropout"
   ]
  },
  {
   "cell_type": "code",
   "execution_count": 121,
   "metadata": {},
   "outputs": [],
   "source": [
    "model_3 = models.Sequential()\n",
    "\n",
    "model_3.add(layers.Dense(75, activation='relu', input_shape=(196608,))) \n",
    "model_3.add(layers.Dropout(0.3))\n",
    "\n",
    "model_3.add(layers.Dense(32, activation='relu')) \n",
    "model_3.add(layers.Dropout(0.3))\n",
    "\n",
    "# Add the output layer\n",
    "model_3.add(layers.Dense(1, activation='sigmoid'))"
   ]
  },
  {
   "cell_type": "code",
   "execution_count": 122,
   "metadata": {},
   "outputs": [],
   "source": [
    "model_3.compile(optimizer='sgd',\n",
    "              loss='binary_crossentropy',\n",
    "              metrics=['accuracy'])"
   ]
  },
  {
   "cell_type": "code",
   "execution_count": 123,
   "metadata": {
    "scrolled": true
   },
   "outputs": [
    {
     "name": "stdout",
     "output_type": "stream",
     "text": [
      "Epoch 1/50\n",
      "118/118 [==============================] - 7s 63ms/step - loss: 0.9049 - accuracy: 0.7043 - val_loss: 0.4773 - val_accuracy: 0.7353\n",
      "Epoch 2/50\n",
      "118/118 [==============================] - 6s 54ms/step - loss: 0.5313 - accuracy: 0.7280 - val_loss: 0.5543 - val_accuracy: 0.8826\n",
      "Epoch 3/50\n",
      "118/118 [==============================] - 6s 53ms/step - loss: 0.5341 - accuracy: 0.7515 - val_loss: 0.3927 - val_accuracy: 0.7812\n",
      "Epoch 4/50\n",
      "118/118 [==============================] - 6s 52ms/step - loss: 0.4795 - accuracy: 0.7748 - val_loss: 0.4045 - val_accuracy: 0.7364\n",
      "Epoch 5/50\n",
      "118/118 [==============================] - 6s 52ms/step - loss: 0.4212 - accuracy: 0.7972 - val_loss: 2.2661 - val_accuracy: 0.2679\n",
      "Epoch 6/50\n",
      "118/118 [==============================] - 6s 52ms/step - loss: 0.5111 - accuracy: 0.7275 - val_loss: 0.3647 - val_accuracy: 0.7353\n",
      "Epoch 7/50\n",
      "118/118 [==============================] - 6s 52ms/step - loss: 0.4746 - accuracy: 0.7310 - val_loss: 0.3408 - val_accuracy: 0.7353\n",
      "Epoch 8/50\n",
      "118/118 [==============================] - 6s 52ms/step - loss: 0.4516 - accuracy: 0.7310 - val_loss: 0.3387 - val_accuracy: 0.7353\n",
      "Epoch 9/50\n",
      "118/118 [==============================] - 7s 59ms/step - loss: 0.4615 - accuracy: 0.7310 - val_loss: 0.3144 - val_accuracy: 0.7353\n",
      "Epoch 10/50\n",
      "118/118 [==============================] - 6s 53ms/step - loss: 0.4815 - accuracy: 0.7310 - val_loss: 0.3300 - val_accuracy: 0.7353\n",
      "Epoch 11/50\n",
      "118/118 [==============================] - 6s 51ms/step - loss: 0.4456 - accuracy: 0.7310 - val_loss: 0.3250 - val_accuracy: 0.7353\n",
      "Epoch 12/50\n",
      "118/118 [==============================] - 6s 52ms/step - loss: 0.4588 - accuracy: 0.7310 - val_loss: 0.3923 - val_accuracy: 0.7353\n",
      "Epoch 13/50\n",
      "118/118 [==============================] - 7s 56ms/step - loss: 0.4354 - accuracy: 0.7310 - val_loss: 0.3020 - val_accuracy: 0.7353\n",
      "Epoch 14/50\n",
      "118/118 [==============================] - 7s 55ms/step - loss: 0.4361 - accuracy: 0.7310 - val_loss: 0.2994 - val_accuracy: 0.7353\n",
      "Epoch 15/50\n",
      "118/118 [==============================] - 6s 54ms/step - loss: 0.4179 - accuracy: 0.7310 - val_loss: 0.3480 - val_accuracy: 0.7353\n",
      "Epoch 16/50\n",
      "118/118 [==============================] - 6s 54ms/step - loss: 0.3971 - accuracy: 0.7310 - val_loss: 0.4310 - val_accuracy: 0.7353\n",
      "Epoch 17/50\n",
      "118/118 [==============================] - 6s 53ms/step - loss: 0.3715 - accuracy: 0.7310 - val_loss: 0.3305 - val_accuracy: 0.7353\n",
      "Epoch 18/50\n",
      "118/118 [==============================] - 6s 51ms/step - loss: 0.3532 - accuracy: 0.7310 - val_loss: 0.3068 - val_accuracy: 0.7353\n",
      "Epoch 19/50\n",
      "118/118 [==============================] - 6s 54ms/step - loss: 0.3508 - accuracy: 0.8524 - val_loss: 0.3139 - val_accuracy: 0.9296\n",
      "Epoch 20/50\n",
      "118/118 [==============================] - 7s 57ms/step - loss: 0.4539 - accuracy: 0.6963 - val_loss: 0.2950 - val_accuracy: 0.9285\n",
      "Epoch 21/50\n",
      "118/118 [==============================] - 7s 58ms/step - loss: 0.4390 - accuracy: 0.7035 - val_loss: 0.2806 - val_accuracy: 0.9168\n",
      "Epoch 22/50\n",
      "118/118 [==============================] - 6s 54ms/step - loss: 0.4270 - accuracy: 0.7232 - val_loss: 0.6726 - val_accuracy: 0.7353\n",
      "Epoch 23/50\n",
      "118/118 [==============================] - 7s 57ms/step - loss: 0.4404 - accuracy: 0.7310 - val_loss: 0.6854 - val_accuracy: 0.7353\n",
      "Epoch 24/50\n",
      "118/118 [==============================] - 7s 56ms/step - loss: 0.6593 - accuracy: 0.7310 - val_loss: 0.6357 - val_accuracy: 0.7353\n",
      "Epoch 25/50\n",
      "118/118 [==============================] - 6s 55ms/step - loss: 0.6236 - accuracy: 0.7310 - val_loss: 0.6095 - val_accuracy: 0.7353\n",
      "Epoch 26/50\n",
      "118/118 [==============================] - 6s 54ms/step - loss: 0.6043 - accuracy: 0.7310 - val_loss: 0.5952 - val_accuracy: 0.7353\n",
      "Epoch 27/50\n",
      "118/118 [==============================] - 6s 53ms/step - loss: 0.5944 - accuracy: 0.7310 - val_loss: 0.5878 - val_accuracy: 0.7353\n",
      "Epoch 28/50\n",
      "118/118 [==============================] - 7s 56ms/step - loss: 0.5894 - accuracy: 0.7310 - val_loss: 0.5834 - val_accuracy: 0.7353\n",
      "Epoch 29/50\n",
      "118/118 [==============================] - 6s 53ms/step - loss: 0.5863 - accuracy: 0.7310 - val_loss: 0.5810 - val_accuracy: 0.7353\n",
      "Epoch 30/50\n",
      "118/118 [==============================] - 7s 57ms/step - loss: 0.5845 - accuracy: 0.7310 - val_loss: 0.5796 - val_accuracy: 0.7353\n",
      "Epoch 31/50\n",
      "118/118 [==============================] - 6s 55ms/step - loss: 0.5835 - accuracy: 0.7310 - val_loss: 0.5786 - val_accuracy: 0.7353\n",
      "Epoch 32/50\n",
      "118/118 [==============================] - 7s 55ms/step - loss: 0.5838 - accuracy: 0.7310 - val_loss: 0.5779 - val_accuracy: 0.7353\n",
      "Epoch 33/50\n",
      "118/118 [==============================] - 6s 54ms/step - loss: 0.5428 - accuracy: 0.7310 - val_loss: 0.4108 - val_accuracy: 0.7353\n",
      "Epoch 34/50\n",
      "118/118 [==============================] - 6s 51ms/step - loss: 0.4564 - accuracy: 0.7310 - val_loss: 0.3701 - val_accuracy: 0.7353\n",
      "Epoch 35/50\n",
      "118/118 [==============================] - 6s 53ms/step - loss: 0.4486 - accuracy: 0.7310 - val_loss: 0.3552 - val_accuracy: 0.7353\n",
      "Epoch 36/50\n",
      "118/118 [==============================] - 6s 49ms/step - loss: 0.4421 - accuracy: 0.7310 - val_loss: 0.3622 - val_accuracy: 0.7353\n",
      "Epoch 37/50\n",
      "118/118 [==============================] - 6s 50ms/step - loss: 0.4364 - accuracy: 0.7310 - val_loss: 0.3283 - val_accuracy: 0.7353\n",
      "Epoch 38/50\n",
      "118/118 [==============================] - 6s 52ms/step - loss: 0.4353 - accuracy: 0.7310 - val_loss: 0.3212 - val_accuracy: 0.7353\n",
      "Epoch 39/50\n",
      "118/118 [==============================] - 6s 51ms/step - loss: 0.4268 - accuracy: 0.7310 - val_loss: 0.3161 - val_accuracy: 0.7353\n",
      "Epoch 40/50\n",
      "118/118 [==============================] - 6s 50ms/step - loss: 0.4286 - accuracy: 0.7310 - val_loss: 0.3345 - val_accuracy: 0.7353\n",
      "Epoch 41/50\n",
      "118/118 [==============================] - 6s 51ms/step - loss: 0.4217 - accuracy: 0.7310 - val_loss: 0.4315 - val_accuracy: 0.7353\n",
      "Epoch 42/50\n",
      "118/118 [==============================] - 6s 51ms/step - loss: 0.4278 - accuracy: 0.7310 - val_loss: 0.3117 - val_accuracy: 0.7353\n",
      "Epoch 43/50\n",
      "118/118 [==============================] - 6s 53ms/step - loss: 0.4256 - accuracy: 0.7310 - val_loss: 0.2955 - val_accuracy: 0.7353\n",
      "Epoch 44/50\n",
      "118/118 [==============================] - 6s 51ms/step - loss: 0.4152 - accuracy: 0.7310 - val_loss: 0.3115 - val_accuracy: 0.7353\n",
      "Epoch 45/50\n",
      "118/118 [==============================] - 6s 53ms/step - loss: 0.4118 - accuracy: 0.7310 - val_loss: 0.6554 - val_accuracy: 0.7353\n",
      "Epoch 46/50\n",
      "118/118 [==============================] - 6s 50ms/step - loss: 0.6380 - accuracy: 0.7310 - val_loss: 0.6205 - val_accuracy: 0.7353\n",
      "Epoch 47/50\n",
      "118/118 [==============================] - 6s 52ms/step - loss: 0.6123 - accuracy: 0.7310 - val_loss: 0.6014 - val_accuracy: 0.7353\n",
      "Epoch 48/50\n",
      "118/118 [==============================] - 6s 51ms/step - loss: 0.5986 - accuracy: 0.7310 - val_loss: 0.5908 - val_accuracy: 0.7353\n",
      "Epoch 49/50\n",
      "118/118 [==============================] - 6s 52ms/step - loss: 0.5912 - accuracy: 0.7310 - val_loss: 0.5853 - val_accuracy: 0.7353\n",
      "Epoch 50/50\n",
      "118/118 [==============================] - 6s 49ms/step - loss: 0.5874 - accuracy: 0.7310 - val_loss: 0.5824 - val_accuracy: 0.7353\n"
     ]
    }
   ],
   "source": [
    "history_3 = model_3.fit(X_train,\n",
    "                    y_train,\n",
    "                    epochs=50,\n",
    "                    batch_size=32,\n",
    "                    validation_data=(X_val, y_val))"
   ]
  },
  {
   "cell_type": "code",
   "execution_count": 124,
   "metadata": {},
   "outputs": [
    {
     "data": {
      "image/png": "[encoded data removed]",
      "text/plain": [
       "<Figure size 864x576 with 1 Axes>"
      ]
     },
     "metadata": {
      "needs_background": "light"
     },
     "output_type": "display_data"
    }
   ],
   "source": [
    "# Access the history attribute and store the dictionary\n",
    "model_3_val_dict = history_3.history\n",
    "# Print the keys\n",
    "model_3_val_dict.keys()\n",
    "\n",
    "fig, ax = plt.subplots(figsize=(12, 8))\n",
    "\n",
    "acc_values = model_3_val_dict['accuracy'] \n",
    "val_acc_values = model_3_val_dict['val_accuracy']\n",
    "\n",
    "epochs = range(1, len(acc_values) + 1)\n",
    "ax.plot(epochs, acc_values, label='Training acc')\n",
    "ax.plot(epochs, val_acc_values, label='Validation acc')\n",
    "ax.set_title('Training & validation accuracy')\n",
    "ax.set_xlabel('Epochs')\n",
    "ax.set_ylabel('Accuracy')\n",
    "ax.legend();"
   ]
  },
  {
   "cell_type": "code",
   "execution_count": 125,
   "metadata": {},
   "outputs": [
    {
     "name": "stdout",
     "output_type": "stream",
     "text": [
      "118/118 [==============================] - 2s 17ms/step - loss: 0.5861 - accuracy: 0.7310\n"
     ]
    },
    {
     "data": {
      "text/plain": [
       "[0.5860926508903503, 0.7309848070144653]"
      ]
     },
     "execution_count": 125,
     "metadata": {},
     "output_type": "execute_result"
    }
   ],
   "source": [
    "model_3.evaluate(X_train, y_train)"
   ]
  },
  {
   "cell_type": "code",
   "execution_count": 126,
   "metadata": {},
   "outputs": [
    {
     "name": "stdout",
     "output_type": "stream",
     "text": [
      "30/30 [==============================] - 0s 15ms/step - loss: 0.5824 - accuracy: 0.7353\n"
     ]
    },
    {
     "data": {
      "text/plain": [
       "[0.5823835134506226, 0.7353255152702332]"
      ]
     },
     "execution_count": 126,
     "metadata": {},
     "output_type": "execute_result"
    }
   ],
   "source": [
    "model_3.evaluate(X_val, y_val)"
   ]
  },
  {
   "cell_type": "markdown",
   "metadata": {},
   "source": [
    "## Fourth Model: L2 Regularization"
   ]
  },
  {
   "cell_type": "code",
   "execution_count": null,
   "metadata": {},
   "outputs": [],
   "source": [
    "model_4 = models.Sequential()\n",
    "\n",
    "# Add the input and first hidden layer\n",
    "model_4.add(layers.Dense(75, activation='relu', kernel_regularizer=regularizers.l2(0.005), input_shape=(196608,)))\n",
    "\n",
    "# Add another hidden layer\n",
    "model_4.add(layers.Dense(32, kernel_regularizer=regularizers.l2(0.005), activation='relu'))\n",
    "\n",
    "# Add an output layer\n",
    "model_4.add(layers.Dense(1, activation='sigmoid'))"
   ]
  },
  {
   "cell_type": "code",
   "execution_count": null,
   "metadata": {},
   "outputs": [],
   "source": [
    "model_4.compile(optimizer='sgd',\n",
    "              loss='binary_crossentropy',\n",
    "              metrics=['accuracy'])"
   ]
  },
  {
   "cell_type": "code",
   "execution_count": null,
   "metadata": {},
   "outputs": [],
   "source": [
    "history_4 = model_4.fit(X_train,\n",
    "                    y_train,\n",
    "                    epochs=50,\n",
    "                    batch_size=32,\n",
    "                    validation_data=(X_val, y_val))"
   ]
  },
  {
   "cell_type": "code",
   "execution_count": null,
   "metadata": {},
   "outputs": [],
   "source": [
    "model_4.evaluate(X_train, y_train)"
   ]
  },
  {
   "cell_type": "code",
   "execution_count": null,
   "metadata": {},
   "outputs": [],
   "source": [
    "model_4.evaluate(X_val, y_val)"
   ]
  },
  {
   "cell_type": "markdown",
   "metadata": {},
   "source": [
    "## Fifth Model: CNN"
   ]
  },
  {
   "cell_type": "code",
   "execution_count": 8,
   "metadata": {},
   "outputs": [],
   "source": [
    "X_train, X_test, y_train, y_test = train_test_split(train_images, train_y, test_size=0.5)"
   ]
  },
  {
   "cell_type": "code",
   "execution_count": 9,
   "metadata": {
    "scrolled": true
   },
   "outputs": [
    {
     "data": {
      "text/plain": [
       "(2608, 256, 256, 3)"
      ]
     },
     "execution_count": 9,
     "metadata": {},
     "output_type": "execute_result"
    }
   ],
   "source": [
    "X_train.shape"
   ]
  },
  {
   "cell_type": "code",
   "execution_count": 10,
   "metadata": {},
   "outputs": [],
   "source": [
    "model_5 = models.Sequential()\n",
    "model_5.add(layers.Conv2D(32, (3, 3), activation='relu',\n",
    "                        input_shape=(256 ,256,  3)))\n",
    "model_5.add(layers.MaxPooling2D((2, 2)))\n",
    "\n",
    "model_5.add(layers.Conv2D(32, (4, 4), activation='relu'))\n",
    "model_5.add(layers.MaxPooling2D((2, 2)))\n",
    "\n",
    "model_5.add(layers.Conv2D(64, (3, 3), activation='relu'))\n",
    "model_5.add(layers.MaxPooling2D((2, 2)))\n",
    "\n",
    "model_5.add(layers.Flatten())\n",
    "model_5.add(layers.Dense(64, activation='relu'))\n",
    "model_5.add(layers.Dense(1, activation='sigmoid'))"
   ]
  },
  {
   "cell_type": "code",
   "execution_count": 11,
   "metadata": {},
   "outputs": [],
   "source": [
    "model_5.compile(optimizer='sgd',\n",
    "              loss='binary_crossentropy',\n",
    "              metrics=['accuracy'])"
   ]
  },
  {
   "cell_type": "code",
   "execution_count": 12,
   "metadata": {},
   "outputs": [
    {
     "name": "stdout",
     "output_type": "stream",
     "text": [
      "Epoch 1/30\n",
      "41/41 [==============================] - 92s 2s/step - loss: 0.5495 - accuracy: 0.7531 - val_loss: 0.9141 - val_accuracy: 0.5000\n",
      "Epoch 2/30\n",
      "41/41 [==============================] - 89s 2s/step - loss: 0.4998 - accuracy: 0.7673 - val_loss: 0.9225 - val_accuracy: 0.5000\n",
      "Epoch 3/30\n",
      "41/41 [==============================] - 88s 2s/step - loss: 0.4584 - accuracy: 0.7795 - val_loss: 0.7808 - val_accuracy: 0.6250\n",
      "Epoch 4/30\n",
      "41/41 [==============================] - 89s 2s/step - loss: 0.4046 - accuracy: 0.8355 - val_loss: 0.8919 - val_accuracy: 0.6250\n",
      "Epoch 5/30\n",
      "41/41 [==============================] - 88s 2s/step - loss: 0.3545 - accuracy: 0.8478 - val_loss: 0.6348 - val_accuracy: 0.7500\n",
      "Epoch 6/30\n",
      "41/41 [==============================] - 87s 2s/step - loss: 0.2678 - accuracy: 0.8957 - val_loss: 0.6561 - val_accuracy: 0.7500\n",
      "Epoch 7/30\n",
      "41/41 [==============================] - 88s 2s/step - loss: 0.2592 - accuracy: 0.8992 - val_loss: 0.5467 - val_accuracy: 0.8125\n",
      "Epoch 8/30\n",
      "41/41 [==============================] - 88s 2s/step - loss: 0.2209 - accuracy: 0.9137 - val_loss: 1.4441 - val_accuracy: 0.6250\n",
      "Epoch 9/30\n",
      "41/41 [==============================] - 87s 2s/step - loss: 0.2064 - accuracy: 0.9245 - val_loss: 0.4298 - val_accuracy: 0.7500\n",
      "Epoch 10/30\n",
      "41/41 [==============================] - 88s 2s/step - loss: 0.1943 - accuracy: 0.9268 - val_loss: 0.4470 - val_accuracy: 0.8125\n",
      "Epoch 11/30\n",
      "41/41 [==============================] - 88s 2s/step - loss: 0.1922 - accuracy: 0.9287 - val_loss: 0.5128 - val_accuracy: 0.8125\n",
      "Epoch 12/30\n",
      "41/41 [==============================] - 88s 2s/step - loss: 0.1394 - accuracy: 0.9448 - val_loss: 0.4120 - val_accuracy: 0.7500\n",
      "Epoch 13/30\n",
      "41/41 [==============================] - 88s 2s/step - loss: 0.1562 - accuracy: 0.9371 - val_loss: 0.5546 - val_accuracy: 0.8125\n",
      "Epoch 14/30\n",
      "41/41 [==============================] - 92s 2s/step - loss: 0.1551 - accuracy: 0.9410 - val_loss: 0.6564 - val_accuracy: 0.7500\n",
      "Epoch 15/30\n",
      "41/41 [==============================] - 88s 2s/step - loss: 0.1380 - accuracy: 0.9463 - val_loss: 0.9074 - val_accuracy: 0.6875\n",
      "Epoch 16/30\n",
      "41/41 [==============================] - 88s 2s/step - loss: 0.1370 - accuracy: 0.9490 - val_loss: 1.0555 - val_accuracy: 0.5625\n",
      "Epoch 17/30\n",
      "41/41 [==============================] - 90s 2s/step - loss: 0.1273 - accuracy: 0.9463 - val_loss: 0.5256 - val_accuracy: 0.8125\n",
      "Epoch 18/30\n",
      "41/41 [==============================] - 88s 2s/step - loss: 0.1295 - accuracy: 0.9509 - val_loss: 0.3270 - val_accuracy: 0.8750\n",
      "Epoch 19/30\n",
      "41/41 [==============================] - 88s 2s/step - loss: 0.1221 - accuracy: 0.9498 - val_loss: 0.3451 - val_accuracy: 0.8125\n",
      "Epoch 20/30\n",
      "41/41 [==============================] - 88s 2s/step - loss: 0.1266 - accuracy: 0.9498 - val_loss: 0.3468 - val_accuracy: 0.8125\n",
      "Epoch 21/30\n",
      "41/41 [==============================] - 87s 2s/step - loss: 0.1213 - accuracy: 0.9548 - val_loss: 0.3237 - val_accuracy: 0.8750\n",
      "Epoch 22/30\n",
      "41/41 [==============================] - 87s 2s/step - loss: 0.1126 - accuracy: 0.9551 - val_loss: 0.9818 - val_accuracy: 0.6250\n",
      "Epoch 23/30\n",
      "41/41 [==============================] - 87s 2s/step - loss: 0.1163 - accuracy: 0.9582 - val_loss: 1.2191 - val_accuracy: 0.5625\n",
      "Epoch 24/30\n",
      "41/41 [==============================] - 87s 2s/step - loss: 0.1136 - accuracy: 0.9586 - val_loss: 0.4424 - val_accuracy: 0.7500\n",
      "Epoch 25/30\n",
      "41/41 [==============================] - 87s 2s/step - loss: 0.1118 - accuracy: 0.9559 - val_loss: 0.9904 - val_accuracy: 0.6250\n",
      "Epoch 26/30\n",
      "41/41 [==============================] - 88s 2s/step - loss: 0.1090 - accuracy: 0.9586 - val_loss: 0.5498 - val_accuracy: 0.7500\n",
      "Epoch 27/30\n",
      "41/41 [==============================] - 87s 2s/step - loss: 0.1154 - accuracy: 0.9559 - val_loss: 0.5422 - val_accuracy: 0.6875\n",
      "Epoch 28/30\n",
      "41/41 [==============================] - 2600s 63s/step - loss: 0.0997 - accuracy: 0.9624 - val_loss: 0.3364 - val_accuracy: 0.8125\n",
      "Epoch 29/30\n",
      "41/41 [==============================] - 87s 2s/step - loss: 0.1043 - accuracy: 0.9597 - val_loss: 1.1371 - val_accuracy: 0.6250\n",
      "Epoch 30/30\n",
      "41/41 [==============================] - 87s 2s/step - loss: 0.1032 - accuracy: 0.9613 - val_loss: 0.6269 - val_accuracy: 0.6875\n"
     ]
    }
   ],
   "source": [
    "history_5 = model_5.fit(X_train,\n",
    "                    y_train,\n",
    "                    epochs=30,\n",
    "                    batch_size=64,\n",
    "                    validation_data=(val_images, val_y))"
   ]
  },
  {
   "cell_type": "code",
   "execution_count": 13,
   "metadata": {},
   "outputs": [
    {
     "name": "stdout",
     "output_type": "stream",
     "text": [
      "82/82 [==============================] - 15s 184ms/step - loss: 0.0868 - accuracy: 0.9655\n"
     ]
    },
    {
     "data": {
      "text/plain": [
       "[0.08676890283823013, 0.9654908180236816]"
      ]
     },
     "execution_count": 13,
     "metadata": {},
     "output_type": "execute_result"
    }
   ],
   "source": [
    "model_5.evaluate(X_train, y_train)"
   ]
  },
  {
   "cell_type": "code",
   "execution_count": 14,
   "metadata": {},
   "outputs": [
    {
     "name": "stdout",
     "output_type": "stream",
     "text": [
      "1/1 [==============================] - 0s 997us/step - loss: 0.6269 - accuracy: 0.6875\n"
     ]
    },
    {
     "data": {
      "text/plain": [
       "[0.62685626745224, 0.6875]"
      ]
     },
     "execution_count": 14,
     "metadata": {},
     "output_type": "execute_result"
    }
   ],
   "source": [
    "model_5.evaluate(val_images, val_y)"
   ]
  },
  {
   "cell_type": "markdown",
   "metadata": {},
   "source": [
    "## Final Model Evaluation"
   ]
  },
  {
   "cell_type": "code",
   "execution_count": null,
   "metadata": {},
   "outputs": [],
   "source": []
  },
  {
   "cell_type": "markdown",
   "metadata": {},
   "source": [
    "## Conclusion"
   ]
  },
  {
   "cell_type": "code",
   "execution_count": null,
   "metadata": {},
   "outputs": [],
   "source": []
  },
  {
   "cell_type": "markdown",
   "metadata": {},
   "source": [
    "## Next Steps"
   ]
  },
  {
   "cell_type": "code",
   "execution_count": null,
   "metadata": {},
   "outputs": [],
   "source": []
  }
 ],
 "metadata": {
  "kernelspec": {
   "display_name": "Python 3",
   "language": "python",
   "name": "python3"
  },
  "language_info": {
   "codemirror_mode": {
    "name": "ipython",
    "version": 3
   },
   "file_extension": ".py",
   "mimetype": "text/x-python",
   "name": "python",
   "nbconvert_exporter": "python",
   "pygments_lexer": "ipython3",
   "version": "3.8.5"
  },
  "toc": {
   "base_numbering": 1,
   "nav_menu": {},
   "number_sections": true,
   "sideBar": true,
   "skip_h1_title": false,
   "title_cell": "Table of Contents",
   "title_sidebar": "Contents",
   "toc_cell": false,
   "toc_position": {},
   "toc_section_display": true,
   "toc_window_display": false
  }
 },
 "nbformat": 4,
 "nbformat_minor": 4
}
