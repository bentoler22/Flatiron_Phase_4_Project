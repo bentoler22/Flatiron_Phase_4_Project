{
 "cells": [
  {
   "cell_type": "markdown",
   "metadata": {},
   "source": [
    "# Chest Xray Image Classification"
   ]
  },
  {
   "cell_type": "code",
   "execution_count": null,
   "metadata": {},
   "outputs": [],
   "source": []
  },
  {
   "cell_type": "code",
   "execution_count": null,
   "metadata": {},
   "outputs": [],
   "source": []
  },
  {
   "cell_type": "code",
   "execution_count": null,
   "metadata": {},
   "outputs": [],
   "source": []
  },
  {
   "cell_type": "markdown",
   "metadata": {},
   "source": [
    "## Data Preparation"
   ]
  },
  {
   "cell_type": "code",
   "execution_count": 29,
   "metadata": {},
   "outputs": [],
   "source": [
    "import os, shutil\n",
    "import time\n",
    "import matplotlib.pyplot as plt\n",
    "import scipy\n",
    "import numpy as np\n",
    "from PIL import Image\n",
    "from scipy import ndimage\n",
    "from keras.preprocessing.image import ImageDataGenerator, array_to_img, img_to_array, load_img\n",
    "from keras import models\n",
    "from keras import layers\n",
    "from sklearn.model_selection import train_test_split"
   ]
  },
  {
   "cell_type": "code",
   "execution_count": 2,
   "metadata": {},
   "outputs": [],
   "source": [
    "train_folder = 'chest_xray/train/'\n",
    "test_folder = 'chest_xray/test/'\n",
    "val_folder = 'chest_xray/val/'"
   ]
  },
  {
   "cell_type": "code",
   "execution_count": 3,
   "metadata": {},
   "outputs": [
    {
     "name": "stdout",
     "output_type": "stream",
     "text": [
      "Found 624 images belonging to 2 classes.\n",
      "Found 16 images belonging to 2 classes.\n",
      "Found 5216 images belonging to 2 classes.\n"
     ]
    }
   ],
   "source": [
    "# get all the data in the directory split/test (180 images), and reshape them\n",
    "test_generator = ImageDataGenerator(rescale=1./255).flow_from_directory(\n",
    "        test_folder, batch_size=624) \n",
    "\n",
    "# get all the data in the directory split/validation (200 images), and reshape them\n",
    "val_generator = ImageDataGenerator(rescale=1./255).flow_from_directory(\n",
    "        val_folder, batch_size=16)\n",
    "\n",
    "# get all the data in the directory split/train (542 images), and reshape them\n",
    "train_generator = ImageDataGenerator(rescale=1./255).flow_from_directory(\n",
    "        train_folder, batch_size=5216)"
   ]
  },
  {
   "cell_type": "code",
   "execution_count": 4,
   "metadata": {},
   "outputs": [],
   "source": [
    "# create the data sets\n",
    "train_images, train_labels = next(train_generator)\n",
    "test_images, test_labels = next(test_generator)\n",
    "val_images, val_labels = next(val_generator)"
   ]
  },
  {
   "cell_type": "code",
   "execution_count": 5,
   "metadata": {},
   "outputs": [
    {
     "name": "stdout",
     "output_type": "stream",
     "text": [
      "Number of training samples: 5216\n",
      "Number of testing samples: 624\n",
      "Number of validation samples: 16\n",
      "train_images shape: (5216, 256, 256, 3)\n",
      "train_labels shape: (5216, 2)\n",
      "test_images shape: (624, 256, 256, 3)\n",
      "test_labels shape: (624, 2)\n",
      "val_images shape: (16, 256, 256, 3)\n",
      "val_labels shape: (16, 2)\n"
     ]
    }
   ],
   "source": [
    "# Explore your dataset again\n",
    "m_train = train_images.shape[0]\n",
    "num_px = train_images.shape[1]\n",
    "m_test = test_images.shape[0]\n",
    "m_val = val_images.shape[0]\n",
    "\n",
    "print (\"Number of training samples: \" + str(m_train))\n",
    "print (\"Number of testing samples: \" + str(m_test))\n",
    "print (\"Number of validation samples: \" + str(m_val))\n",
    "print (\"train_images shape: \" + str(train_images.shape))\n",
    "print (\"train_labels shape: \" + str(train_labels.shape))\n",
    "print (\"test_images shape: \" + str(test_images.shape))\n",
    "print (\"test_labels shape: \" + str(test_labels.shape))\n",
    "print (\"val_images shape: \" + str(val_images.shape))\n",
    "print (\"val_labels shape: \" + str(val_labels.shape))"
   ]
  },
  {
   "cell_type": "code",
   "execution_count": 6,
   "metadata": {},
   "outputs": [
    {
     "name": "stdout",
     "output_type": "stream",
     "text": [
      "(5216, 196608)\n",
      "(624, 196608)\n",
      "(16, 196608)\n"
     ]
    }
   ],
   "source": [
    "train_img = train_images.reshape(train_images.shape[0], -1)\n",
    "test_img = test_images.reshape(test_images.shape[0], -1)\n",
    "val_img = val_images.reshape(val_images.shape[0], -1)\n",
    "\n",
    "print(train_img.shape)\n",
    "print(test_img.shape)\n",
    "print(val_img.shape)"
   ]
  },
  {
   "cell_type": "code",
   "execution_count": 16,
   "metadata": {},
   "outputs": [],
   "source": [
    "train_y = np.reshape(train_labels[:,0], (5216,1))\n",
    "test_y = np.reshape(test_labels[:,0], (624,1))\n",
    "val_y = np.reshape(val_labels[:,0], (16,1))"
   ]
  },
  {
   "cell_type": "code",
   "execution_count": 44,
   "metadata": {},
   "outputs": [],
   "source": [
    "X_train, X_val, y_train, y_val = train_test_split(train_img, train_y, test_size=608)"
   ]
  },
  {
   "cell_type": "code",
   "execution_count": 48,
   "metadata": {
    "scrolled": true
   },
   "outputs": [
    {
     "ename": "TypeError",
     "evalue": "only integer scalar arrays can be converted to a scalar index",
     "output_type": "error",
     "traceback": [
      "\u001b[1;31m---------------------------------------------------------------------------\u001b[0m",
      "\u001b[1;31mTypeError\u001b[0m                                 Traceback (most recent call last)",
      "\u001b[1;32m<ipython-input-48-729654340275>\u001b[0m in \u001b[0;36m<module>\u001b[1;34m\u001b[0m\n\u001b[1;32m----> 1\u001b[1;33m \u001b[0mX_val_all\u001b[0m \u001b[1;33m=\u001b[0m \u001b[0mnp\u001b[0m\u001b[1;33m.\u001b[0m\u001b[0mconcatenate\u001b[0m\u001b[1;33m(\u001b[0m\u001b[0mX_val\u001b[0m\u001b[1;33m,\u001b[0m \u001b[0mval_img\u001b[0m\u001b[1;33m)\u001b[0m\u001b[1;33m\u001b[0m\u001b[1;33m\u001b[0m\u001b[0m\n\u001b[0m",
      "\u001b[1;32m<__array_function__ internals>\u001b[0m in \u001b[0;36mconcatenate\u001b[1;34m(*args, **kwargs)\u001b[0m\n",
      "\u001b[1;31mTypeError\u001b[0m: only integer scalar arrays can be converted to a scalar index"
     ]
    }
   ],
   "source": [
    "X_val_all = np.concatenate(X_val, val_img)"
   ]
  },
  {
   "cell_type": "markdown",
   "metadata": {},
   "source": [
    "## Baseline Model"
   ]
  },
  {
   "cell_type": "code",
   "execution_count": 49,
   "metadata": {},
   "outputs": [],
   "source": [
    "baseline_model = models.Sequential()\n",
    "baseline_model.add(layers.Dense(10, activation='relu', input_shape=(196608,))) # 1 hidden layer\n",
    "baseline_model.add(layers.Dense(5, activation='relu'))\n",
    "baseline_model.add(layers.Dense(1, activation='sigmoid'))"
   ]
  },
  {
   "cell_type": "code",
   "execution_count": 50,
   "metadata": {
    "scrolled": true
   },
   "outputs": [
    {
     "name": "stdout",
     "output_type": "stream",
     "text": [
      "Epoch 1/50\n",
      "144/144 [==============================] - 3s 21ms/step - loss: 0.7204 - accuracy: 0.7279 - val_loss: 0.6290 - val_accuracy: 0.7516\n",
      "Epoch 2/50\n",
      "144/144 [==============================] - 3s 20ms/step - loss: 0.6159 - accuracy: 0.7418 - val_loss: 0.5978 - val_accuracy: 0.7516\n",
      "Epoch 3/50\n",
      "144/144 [==============================] - 3s 20ms/step - loss: 0.5946 - accuracy: 0.7418 - val_loss: 0.5816 - val_accuracy: 0.7516\n",
      "Epoch 4/50\n",
      "144/144 [==============================] - 3s 20ms/step - loss: 0.5838 - accuracy: 0.7418 - val_loss: 0.5729 - val_accuracy: 0.7516\n",
      "Epoch 5/50\n",
      "144/144 [==============================] - 3s 19ms/step - loss: 0.5781 - accuracy: 0.7418 - val_loss: 0.5680 - val_accuracy: 0.7516\n",
      "Epoch 6/50\n",
      "144/144 [==============================] - 3s 19ms/step - loss: 0.5751 - accuracy: 0.7418 - val_loss: 0.5653 - val_accuracy: 0.7516\n",
      "Epoch 7/50\n",
      "144/144 [==============================] - 3s 19ms/step - loss: 0.5734 - accuracy: 0.7418 - val_loss: 0.5636 - val_accuracy: 0.7516\n",
      "Epoch 8/50\n",
      "144/144 [==============================] - 3s 20ms/step - loss: 0.5724 - accuracy: 0.7418 - val_loss: 0.5626 - val_accuracy: 0.7516\n",
      "Epoch 9/50\n",
      "144/144 [==============================] - 3s 18ms/step - loss: 0.5719 - accuracy: 0.7418 - val_loss: 0.5620 - val_accuracy: 0.7516\n",
      "Epoch 10/50\n",
      "144/144 [==============================] - 3s 18ms/step - loss: 0.5716 - accuracy: 0.7418 - val_loss: 0.5616 - val_accuracy: 0.7516\n",
      "Epoch 11/50\n",
      "144/144 [==============================] - 3s 18ms/step - loss: 0.5715 - accuracy: 0.7418 - val_loss: 0.5613 - val_accuracy: 0.7516\n",
      "Epoch 12/50\n",
      "144/144 [==============================] - 3s 18ms/step - loss: 0.5714 - accuracy: 0.7418 - val_loss: 0.5612 - val_accuracy: 0.7516\n",
      "Epoch 13/50\n",
      "144/144 [==============================] - 3s 18ms/step - loss: 0.5713 - accuracy: 0.7418 - val_loss: 0.5611 - val_accuracy: 0.7516\n",
      "Epoch 14/50\n",
      "144/144 [==============================] - 3s 18ms/step - loss: 0.5713 - accuracy: 0.7418 - val_loss: 0.5610 - val_accuracy: 0.7516\n",
      "Epoch 15/50\n",
      "144/144 [==============================] - 3s 18ms/step - loss: 0.5713 - accuracy: 0.7418 - val_loss: 0.5609 - val_accuracy: 0.7516\n",
      "Epoch 16/50\n",
      "144/144 [==============================] - 3s 19ms/step - loss: 0.5713 - accuracy: 0.7418 - val_loss: 0.5609 - val_accuracy: 0.7516\n",
      "Epoch 17/50\n",
      "144/144 [==============================] - 3s 20ms/step - loss: 0.5712 - accuracy: 0.7418 - val_loss: 0.5609 - val_accuracy: 0.7516\n",
      "Epoch 18/50\n",
      "144/144 [==============================] - 3s 22ms/step - loss: 0.5712 - accuracy: 0.7418 - val_loss: 0.5608 - val_accuracy: 0.7516\n",
      "Epoch 19/50\n",
      "144/144 [==============================] - 3s 21ms/step - loss: 0.5712 - accuracy: 0.7418 - val_loss: 0.5608 - val_accuracy: 0.7516\n",
      "Epoch 20/50\n",
      "144/144 [==============================] - 3s 20ms/step - loss: 0.5712 - accuracy: 0.7418 - val_loss: 0.5608 - val_accuracy: 0.7516\n",
      "Epoch 21/50\n",
      "144/144 [==============================] - 3s 19ms/step - loss: 0.5712 - accuracy: 0.7418 - val_loss: 0.5608 - val_accuracy: 0.7516\n",
      "Epoch 22/50\n",
      "144/144 [==============================] - 3s 19ms/step - loss: 0.5712 - accuracy: 0.7418 - val_loss: 0.5608 - val_accuracy: 0.7516\n",
      "Epoch 23/50\n",
      "144/144 [==============================] - 3s 19ms/step - loss: 0.5712 - accuracy: 0.7418 - val_loss: 0.5608 - val_accuracy: 0.7516\n",
      "Epoch 24/50\n",
      "144/144 [==============================] - 3s 19ms/step - loss: 0.5712 - accuracy: 0.7418 - val_loss: 0.5608 - val_accuracy: 0.7516\n",
      "Epoch 25/50\n",
      "144/144 [==============================] - ETA: 0s - loss: 0.5708 - accuracy: 0.74 - 3s 18ms/step - loss: 0.5712 - accuracy: 0.7418 - val_loss: 0.5608 - val_accuracy: 0.7516\n",
      "Epoch 26/50\n",
      "144/144 [==============================] - 3s 19ms/step - loss: 0.5712 - accuracy: 0.7418 - val_loss: 0.5608 - val_accuracy: 0.7516\n",
      "Epoch 27/50\n",
      "144/144 [==============================] - 3s 20ms/step - loss: 0.5712 - accuracy: 0.7418 - val_loss: 0.5608 - val_accuracy: 0.7516\n",
      "Epoch 28/50\n",
      "144/144 [==============================] - 3s 19ms/step - loss: 0.5712 - accuracy: 0.7418 - val_loss: 0.5608 - val_accuracy: 0.7516\n",
      "Epoch 29/50\n",
      "144/144 [==============================] - 3s 20ms/step - loss: 0.5712 - accuracy: 0.7418 - val_loss: 0.5608 - val_accuracy: 0.7516\n",
      "Epoch 30/50\n",
      "144/144 [==============================] - 3s 19ms/step - loss: 0.5712 - accuracy: 0.7418 - val_loss: 0.5608 - val_accuracy: 0.7516\n",
      "Epoch 31/50\n",
      "144/144 [==============================] - 3s 19ms/step - loss: 0.5712 - accuracy: 0.7418 - val_loss: 0.5608 - val_accuracy: 0.7516\n",
      "Epoch 32/50\n",
      "144/144 [==============================] - 3s 20ms/step - loss: 0.5713 - accuracy: 0.7418 - val_loss: 0.5608 - val_accuracy: 0.7516\n",
      "Epoch 33/50\n",
      "144/144 [==============================] - 3s 19ms/step - loss: 0.5712 - accuracy: 0.7418 - val_loss: 0.5608 - val_accuracy: 0.7516\n",
      "Epoch 34/50\n",
      "144/144 [==============================] - 3s 18ms/step - loss: 0.5712 - accuracy: 0.7418 - val_loss: 0.5608 - val_accuracy: 0.7516\n",
      "Epoch 35/50\n",
      "144/144 [==============================] - 3s 19ms/step - loss: 0.5712 - accuracy: 0.7418 - val_loss: 0.5608 - val_accuracy: 0.7516\n",
      "Epoch 36/50\n",
      "144/144 [==============================] - 3s 18ms/step - loss: 0.5712 - accuracy: 0.7418 - val_loss: 0.5608 - val_accuracy: 0.7516\n",
      "Epoch 37/50\n",
      "144/144 [==============================] - 3s 18ms/step - loss: 0.5712 - accuracy: 0.7418 - val_loss: 0.5608 - val_accuracy: 0.7516\n",
      "Epoch 38/50\n",
      "144/144 [==============================] - 3s 18ms/step - loss: 0.5712 - accuracy: 0.7418 - val_loss: 0.5608 - val_accuracy: 0.7516\n",
      "Epoch 39/50\n",
      "144/144 [==============================] - 3s 18ms/step - loss: 0.5712 - accuracy: 0.7418 - val_loss: 0.5608 - val_accuracy: 0.7516\n",
      "Epoch 40/50\n",
      "144/144 [==============================] - 3s 18ms/step - loss: 0.5712 - accuracy: 0.7418 - val_loss: 0.5608 - val_accuracy: 0.7516\n",
      "Epoch 41/50\n",
      "144/144 [==============================] - 3s 18ms/step - loss: 0.5712 - accuracy: 0.7418 - val_loss: 0.5608 - val_accuracy: 0.7516\n",
      "Epoch 42/50\n",
      "144/144 [==============================] - 3s 18ms/step - loss: 0.5712 - accuracy: 0.7418 - val_loss: 0.5608 - val_accuracy: 0.7516\n",
      "Epoch 43/50\n",
      "144/144 [==============================] - 3s 18ms/step - loss: 0.5712 - accuracy: 0.7418 - val_loss: 0.5608 - val_accuracy: 0.7516\n",
      "Epoch 44/50\n",
      "144/144 [==============================] - 3s 18ms/step - loss: 0.5712 - accuracy: 0.7418 - val_loss: 0.5608 - val_accuracy: 0.7516\n",
      "Epoch 45/50\n",
      "144/144 [==============================] - 3s 18ms/step - loss: 0.5712 - accuracy: 0.7418 - val_loss: 0.5608 - val_accuracy: 0.7516\n",
      "Epoch 46/50\n",
      "144/144 [==============================] - 3s 18ms/step - loss: 0.5712 - accuracy: 0.7418 - val_loss: 0.5608 - val_accuracy: 0.7516\n",
      "Epoch 47/50\n",
      "144/144 [==============================] - 3s 18ms/step - loss: 0.5712 - accuracy: 0.7418 - val_loss: 0.5608 - val_accuracy: 0.7516\n",
      "Epoch 48/50\n",
      "144/144 [==============================] - 3s 18ms/step - loss: 0.5712 - accuracy: 0.7418 - val_loss: 0.5607 - val_accuracy: 0.7516\n",
      "Epoch 49/50\n",
      "144/144 [==============================] - 3s 18ms/step - loss: 0.5712 - accuracy: 0.7418 - val_loss: 0.5608 - val_accuracy: 0.7516\n",
      "Epoch 50/50\n",
      "144/144 [==============================] - 3s 18ms/step - loss: 0.5712 - accuracy: 0.7418 - val_loss: 0.5608 - val_accuracy: 0.7516\n"
     ]
    }
   ],
   "source": [
    "baseline_model.compile(optimizer='sgd',\n",
    "              loss='binary_crossentropy',\n",
    "              metrics=['accuracy'])\n",
    "\n",
    "history = baseline_model.fit(X_train,\n",
    "                    y_train,\n",
    "                    epochs=50,\n",
    "                    batch_size=32,\n",
    "                    validation_data=(X_val, y_val))"
   ]
  },
  {
   "cell_type": "code",
   "execution_count": 51,
   "metadata": {
    "scrolled": false
   },
   "outputs": [
    {
     "name": "stdout",
     "output_type": "stream",
     "text": [
      "144/144 [==============================] - 1s 9ms/step - loss: 0.5712 - accuracy: 0.7418\n"
     ]
    }
   ],
   "source": [
    "results_train = baseline_model.evaluate(X_train, y_train)"
   ]
  },
  {
   "cell_type": "code",
   "execution_count": 52,
   "metadata": {
    "scrolled": true
   },
   "outputs": [
    {
     "name": "stdout",
     "output_type": "stream",
     "text": [
      "19/19 [==============================] - 0s 7ms/step - loss: 0.5608 - accuracy: 0.7516\n"
     ]
    }
   ],
   "source": [
    "results_val = baseline_model.evaluate(X_val, y_val)"
   ]
  },
  {
   "cell_type": "markdown",
   "metadata": {},
   "source": [
    "## 2nd Model"
   ]
  },
  {
   "cell_type": "code",
   "execution_count": 56,
   "metadata": {},
   "outputs": [],
   "source": [
    "model_2 = models.Sequential()\n",
    "model_2.add(layers.Dense(10, activation='relu', input_shape=(196608,))) # 4 hidden layer\n",
    "model_2.add(layers.Dense(10, activation='relu'))\n",
    "model_2.add(layers.Dense(10, activation='relu'))\n",
    "model_2.add(layers.Dense(10, activation='relu'))\n",
    "model_2.add(layers.Dense(10, activation='relu'))\n",
    "model_2.add(layers.Dense(1, activation='sigmoid'))"
   ]
  },
  {
   "cell_type": "code",
   "execution_count": 57,
   "metadata": {
    "scrolled": true
   },
   "outputs": [
    {
     "name": "stdout",
     "output_type": "stream",
     "text": [
      "Epoch 1/50\n",
      "144/144 [==============================] - 3s 20ms/step - loss: 0.4951 - accuracy: 0.7418 - val_loss: 0.4811 - val_accuracy: 0.8043\n",
      "Epoch 2/50\n",
      "144/144 [==============================] - 3s 19ms/step - loss: 0.4488 - accuracy: 0.7396 - val_loss: 0.3357 - val_accuracy: 0.7516\n",
      "Epoch 3/50\n",
      "144/144 [==============================] - 3s 19ms/step - loss: 0.3313 - accuracy: 0.8461 - val_loss: 0.2563 - val_accuracy: 0.9309\n",
      "Epoch 4/50\n",
      "144/144 [==============================] - 3s 18ms/step - loss: 0.2836 - accuracy: 0.9095 - val_loss: 0.2345 - val_accuracy: 0.9375\n",
      "Epoch 5/50\n",
      "144/144 [==============================] - 3s 18ms/step - loss: 0.2790 - accuracy: 0.9030 - val_loss: 0.2353 - val_accuracy: 0.9194\n",
      "Epoch 6/50\n",
      "144/144 [==============================] - 3s 18ms/step - loss: 0.2541 - accuracy: 0.9156 - val_loss: 0.5486 - val_accuracy: 0.6398\n",
      "Epoch 7/50\n",
      "144/144 [==============================] - 3s 18ms/step - loss: 0.2345 - accuracy: 0.9225 - val_loss: 0.1886 - val_accuracy: 0.9375\n",
      "Epoch 8/50\n",
      "144/144 [==============================] - 3s 18ms/step - loss: 0.2128 - accuracy: 0.9329 - val_loss: 0.1801 - val_accuracy: 0.9408\n",
      "Epoch 9/50\n",
      "144/144 [==============================] - 3s 18ms/step - loss: 0.1974 - accuracy: 0.9368 - val_loss: 0.1706 - val_accuracy: 0.9424\n",
      "Epoch 10/50\n",
      "144/144 [==============================] - 3s 20ms/step - loss: 0.1847 - accuracy: 0.9414 - val_loss: 0.1696 - val_accuracy: 0.9408\n",
      "Epoch 11/50\n",
      "144/144 [==============================] - 3s 20ms/step - loss: 0.2008 - accuracy: 0.9314 - val_loss: 0.1604 - val_accuracy: 0.9424\n",
      "Epoch 12/50\n",
      "144/144 [==============================] - 3s 18ms/step - loss: 0.1776 - accuracy: 0.9421 - val_loss: 0.1489 - val_accuracy: 0.9441\n",
      "Epoch 13/50\n",
      "144/144 [==============================] - 3s 19ms/step - loss: 0.1727 - accuracy: 0.9423 - val_loss: 0.1441 - val_accuracy: 0.9441\n",
      "Epoch 14/50\n",
      "144/144 [==============================] - 3s 20ms/step - loss: 0.1748 - accuracy: 0.9397 - val_loss: 0.2009 - val_accuracy: 0.9326\n",
      "Epoch 15/50\n",
      "144/144 [==============================] - 3s 19ms/step - loss: 0.1483 - accuracy: 0.9460 - val_loss: 0.1657 - val_accuracy: 0.9326\n",
      "Epoch 16/50\n",
      "144/144 [==============================] - 3s 18ms/step - loss: 0.1505 - accuracy: 0.9499 - val_loss: 0.2852 - val_accuracy: 0.8882\n",
      "Epoch 17/50\n",
      "144/144 [==============================] - 3s 18ms/step - loss: 0.1510 - accuracy: 0.9477 - val_loss: 0.1314 - val_accuracy: 0.9507\n",
      "Epoch 18/50\n",
      "144/144 [==============================] - 3s 19ms/step - loss: 0.1398 - accuracy: 0.9514 - val_loss: 0.1340 - val_accuracy: 0.9457\n",
      "Epoch 19/50\n",
      "144/144 [==============================] - 3s 18ms/step - loss: 0.1392 - accuracy: 0.9505 - val_loss: 0.1309 - val_accuracy: 0.9424\n",
      "Epoch 20/50\n",
      "144/144 [==============================] - 3s 19ms/step - loss: 0.1340 - accuracy: 0.9507 - val_loss: 0.1307 - val_accuracy: 0.9490\n",
      "Epoch 21/50\n",
      "144/144 [==============================] - 3s 18ms/step - loss: 0.1314 - accuracy: 0.9538 - val_loss: 0.1453 - val_accuracy: 0.9375\n",
      "Epoch 22/50\n",
      "144/144 [==============================] - 3s 18ms/step - loss: 0.1411 - accuracy: 0.9497 - val_loss: 0.1347 - val_accuracy: 0.9391\n",
      "Epoch 23/50\n",
      "144/144 [==============================] - 3s 18ms/step - loss: 0.1266 - accuracy: 0.9540 - val_loss: 0.1207 - val_accuracy: 0.9490\n",
      "Epoch 24/50\n",
      "144/144 [==============================] - 3s 18ms/step - loss: 0.1219 - accuracy: 0.9549 - val_loss: 0.1270 - val_accuracy: 0.9457\n",
      "Epoch 25/50\n",
      "144/144 [==============================] - 3s 18ms/step - loss: 0.1264 - accuracy: 0.9555 - val_loss: 0.1643 - val_accuracy: 0.9375\n",
      "Epoch 26/50\n",
      "144/144 [==============================] - 3s 18ms/step - loss: 0.1234 - accuracy: 0.9592 - val_loss: 0.1326 - val_accuracy: 0.9457\n",
      "Epoch 27/50\n",
      "144/144 [==============================] - 3s 18ms/step - loss: 0.1303 - accuracy: 0.9536 - val_loss: 0.1299 - val_accuracy: 0.9474\n",
      "Epoch 28/50\n",
      "144/144 [==============================] - 3s 18ms/step - loss: 0.1242 - accuracy: 0.9555 - val_loss: 0.1392 - val_accuracy: 0.9359\n",
      "Epoch 29/50\n",
      "144/144 [==============================] - 3s 18ms/step - loss: 0.1182 - accuracy: 0.9583 - val_loss: 0.2298 - val_accuracy: 0.9145\n",
      "Epoch 30/50\n",
      "144/144 [==============================] - 3s 19ms/step - loss: 0.1161 - accuracy: 0.9559 - val_loss: 0.1170 - val_accuracy: 0.9490\n",
      "Epoch 31/50\n",
      "144/144 [==============================] - 3s 20ms/step - loss: 0.1229 - accuracy: 0.9568 - val_loss: 0.1254 - val_accuracy: 0.9441\n",
      "Epoch 32/50\n",
      "144/144 [==============================] - 3s 19ms/step - loss: 0.1132 - accuracy: 0.9605 - val_loss: 0.1193 - val_accuracy: 0.9490\n",
      "Epoch 33/50\n",
      "144/144 [==============================] - 3s 18ms/step - loss: 0.1169 - accuracy: 0.9588 - val_loss: 0.1471 - val_accuracy: 0.9359\n",
      "Epoch 34/50\n",
      "144/144 [==============================] - 3s 20ms/step - loss: 0.1130 - accuracy: 0.9605 - val_loss: 0.1615 - val_accuracy: 0.9359\n",
      "Epoch 35/50\n",
      "144/144 [==============================] - 3s 19ms/step - loss: 0.1113 - accuracy: 0.9592 - val_loss: 0.1336 - val_accuracy: 0.9441\n",
      "Epoch 36/50\n",
      "144/144 [==============================] - 3s 19ms/step - loss: 0.1084 - accuracy: 0.9633 - val_loss: 0.2093 - val_accuracy: 0.9194\n",
      "Epoch 37/50\n",
      "144/144 [==============================] - 3s 19ms/step - loss: 0.1161 - accuracy: 0.9583 - val_loss: 0.3060 - val_accuracy: 0.8882\n",
      "Epoch 38/50\n",
      "144/144 [==============================] - 3s 19ms/step - loss: 0.1051 - accuracy: 0.9659 - val_loss: 0.1137 - val_accuracy: 0.9523\n",
      "Epoch 39/50\n",
      "144/144 [==============================] - 3s 19ms/step - loss: 0.1103 - accuracy: 0.9607 - val_loss: 0.3546 - val_accuracy: 0.8734\n",
      "Epoch 40/50\n",
      "144/144 [==============================] - 3s 20ms/step - loss: 0.1062 - accuracy: 0.9620 - val_loss: 0.1527 - val_accuracy: 0.9424\n",
      "Epoch 41/50\n",
      "144/144 [==============================] - 3s 20ms/step - loss: 0.1130 - accuracy: 0.9581 - val_loss: 0.1138 - val_accuracy: 0.9507\n",
      "Epoch 42/50\n",
      "144/144 [==============================] - 3s 19ms/step - loss: 0.1045 - accuracy: 0.9618 - val_loss: 0.1387 - val_accuracy: 0.9408\n",
      "Epoch 43/50\n",
      "144/144 [==============================] - 3s 19ms/step - loss: 0.1066 - accuracy: 0.9603 - val_loss: 0.1382 - val_accuracy: 0.9408\n",
      "Epoch 44/50\n",
      "144/144 [==============================] - 3s 19ms/step - loss: 0.1035 - accuracy: 0.9642 - val_loss: 0.1103 - val_accuracy: 0.9490\n",
      "Epoch 45/50\n",
      "144/144 [==============================] - 3s 20ms/step - loss: 0.1012 - accuracy: 0.9609 - val_loss: 0.1182 - val_accuracy: 0.9457\n",
      "Epoch 46/50\n",
      "144/144 [==============================] - 3s 20ms/step - loss: 0.1027 - accuracy: 0.9642 - val_loss: 0.1395 - val_accuracy: 0.9408\n",
      "Epoch 47/50\n",
      "144/144 [==============================] - 3s 19ms/step - loss: 0.1028 - accuracy: 0.9644 - val_loss: 0.1284 - val_accuracy: 0.9408\n",
      "Epoch 48/50\n",
      "144/144 [==============================] - 3s 20ms/step - loss: 0.1061 - accuracy: 0.9609 - val_loss: 0.1845 - val_accuracy: 0.9309\n",
      "Epoch 49/50\n",
      "144/144 [==============================] - 3s 19ms/step - loss: 0.1012 - accuracy: 0.9653 - val_loss: 0.1225 - val_accuracy: 0.9441\n",
      "Epoch 50/50\n",
      "144/144 [==============================] - 3s 19ms/step - loss: 0.0968 - accuracy: 0.9681 - val_loss: 0.1114 - val_accuracy: 0.9556\n"
     ]
    }
   ],
   "source": [
    "model_2.compile(optimizer='sgd',\n",
    "              loss='binary_crossentropy',\n",
    "              metrics=['accuracy'])\n",
    "\n",
    "history = model_2.fit(X_train,\n",
    "                    y_train,\n",
    "                    epochs=50,\n",
    "                    batch_size=32,\n",
    "                    validation_data=(X_val, y_val))"
   ]
  },
  {
   "cell_type": "code",
   "execution_count": 58,
   "metadata": {},
   "outputs": [
    {
     "name": "stdout",
     "output_type": "stream",
     "text": [
      "144/144 [==============================] - 1s 10ms/step - loss: 0.0814 - accuracy: 0.9729\n"
     ]
    }
   ],
   "source": [
    "results_train = model_2.evaluate(X_train, y_train)"
   ]
  },
  {
   "cell_type": "code",
   "execution_count": 59,
   "metadata": {},
   "outputs": [
    {
     "name": "stdout",
     "output_type": "stream",
     "text": [
      "19/19 [==============================] - 0s 6ms/step - loss: 0.1114 - accuracy: 0.9556\n"
     ]
    }
   ],
   "source": [
    "results_val = model_2.evaluate(X_val, y_val)"
   ]
  },
  {
   "cell_type": "code",
   "execution_count": null,
   "metadata": {},
   "outputs": [],
   "source": []
  }
 ],
 "metadata": {
  "kernelspec": {
   "display_name": "Python 3",
   "language": "python",
   "name": "python3"
  },
  "language_info": {
   "codemirror_mode": {
    "name": "ipython",
    "version": 3
   },
   "file_extension": ".py",
   "mimetype": "text/x-python",
   "name": "python",
   "nbconvert_exporter": "python",
   "pygments_lexer": "ipython3",
   "version": "3.8.5"
  },
  "toc": {
   "base_numbering": 1,
   "nav_menu": {},
   "number_sections": true,
   "sideBar": true,
   "skip_h1_title": false,
   "title_cell": "Table of Contents",
   "title_sidebar": "Contents",
   "toc_cell": false,
   "toc_position": {},
   "toc_section_display": true,
   "toc_window_display": false
  }
 },
 "nbformat": 4,
 "nbformat_minor": 4
}
